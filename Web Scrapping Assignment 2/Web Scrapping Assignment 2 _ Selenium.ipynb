{
 "cells": [
  {
   "cell_type": "markdown",
   "id": "ac1598a9",
   "metadata": {},
   "source": [
    "## Q1: scrape data for “Data Scientist” designation for first 10 job results. "
   ]
  },
  {
   "cell_type": "code",
   "execution_count": 7,
   "id": "8d6c28e5",
   "metadata": {
    "scrolled": true
   },
   "outputs": [
    {
     "name": "stdout",
     "output_type": "stream",
     "text": [
      "Requirement already satisfied: selenium in /Users/pratikajain/anaconda3/lib/python3.10/site-packages (4.17.2)\n",
      "Requirement already satisfied: urllib3[socks]<3,>=1.26 in /Users/pratikajain/anaconda3/lib/python3.10/site-packages (from selenium) (1.26.14)\n",
      "Requirement already satisfied: typing_extensions>=4.9.0 in /Users/pratikajain/anaconda3/lib/python3.10/site-packages (from selenium) (4.9.0)\n",
      "Requirement already satisfied: trio-websocket~=0.9 in /Users/pratikajain/anaconda3/lib/python3.10/site-packages (from selenium) (0.11.1)\n",
      "Requirement already satisfied: certifi>=2021.10.8 in /Users/pratikajain/anaconda3/lib/python3.10/site-packages (from selenium) (2022.12.7)\n",
      "Requirement already satisfied: trio~=0.17 in /Users/pratikajain/anaconda3/lib/python3.10/site-packages (from selenium) (0.24.0)\n",
      "Requirement already satisfied: idna in /Users/pratikajain/anaconda3/lib/python3.10/site-packages (from trio~=0.17->selenium) (3.4)\n",
      "Requirement already satisfied: attrs>=20.1.0 in /Users/pratikajain/anaconda3/lib/python3.10/site-packages (from trio~=0.17->selenium) (22.1.0)\n",
      "Requirement already satisfied: sniffio>=1.3.0 in /Users/pratikajain/anaconda3/lib/python3.10/site-packages (from trio~=0.17->selenium) (1.3.0)\n",
      "Requirement already satisfied: exceptiongroup in /Users/pratikajain/anaconda3/lib/python3.10/site-packages (from trio~=0.17->selenium) (1.2.0)\n",
      "Requirement already satisfied: outcome in /Users/pratikajain/anaconda3/lib/python3.10/site-packages (from trio~=0.17->selenium) (1.3.0.post0)\n",
      "Requirement already satisfied: sortedcontainers in /Users/pratikajain/anaconda3/lib/python3.10/site-packages (from trio~=0.17->selenium) (2.4.0)\n",
      "Requirement already satisfied: wsproto>=0.14 in /Users/pratikajain/anaconda3/lib/python3.10/site-packages (from trio-websocket~=0.9->selenium) (1.2.0)\n",
      "Requirement already satisfied: PySocks!=1.5.7,<2.0,>=1.5.6 in /Users/pratikajain/anaconda3/lib/python3.10/site-packages (from urllib3[socks]<3,>=1.26->selenium) (1.7.1)\n",
      "Requirement already satisfied: h11<1,>=0.9.0 in /Users/pratikajain/anaconda3/lib/python3.10/site-packages (from wsproto>=0.14->trio-websocket~=0.9->selenium) (0.14.0)\n"
     ]
    }
   ],
   "source": [
    "!pip install selenium"
   ]
  },
  {
   "cell_type": "code",
   "execution_count": 8,
   "id": "5137ab47",
   "metadata": {},
   "outputs": [],
   "source": [
    "import selenium\n",
    "import pandas as pd\n",
    "from selenium import webdriver\n",
    "import warnings\n",
    "warnings.filterwarnings('ignore')\n",
    "from selenium.webdriver.common.by import By\n",
    "import time"
   ]
  },
  {
   "cell_type": "code",
   "execution_count": 9,
   "id": "be9bf008",
   "metadata": {},
   "outputs": [],
   "source": [
    "driver = webdriver.Chrome()"
   ]
  },
  {
   "cell_type": "code",
   "execution_count": 10,
   "id": "dac801a4",
   "metadata": {},
   "outputs": [],
   "source": [
    "driver.get(\"https://www.naukri.com/\")"
   ]
  },
  {
   "cell_type": "code",
   "execution_count": 11,
   "id": "b5a4bef4",
   "metadata": {},
   "outputs": [],
   "source": [
    "designation = driver.find_element(By.CLASS_NAME,\"suggestor-input \")\n",
    "designation.send_keys('Data Scientist')"
   ]
  },
  {
   "cell_type": "code",
   "execution_count": 12,
   "id": "23c391b1",
   "metadata": {},
   "outputs": [],
   "source": [
    "search=driver.find_element(By.XPATH,\"/html/body/div[1]/div[7]/div/div/div[6]\")\n",
    "search.click()"
   ]
  },
  {
   "cell_type": "code",
   "execution_count": 14,
   "id": "b45938b3",
   "metadata": {
    "scrolled": true
   },
   "outputs": [],
   "source": [
    "loc_filter=driver.find_element(By.XPATH,\"/html/body/div/div/main/div[1]/div[1]/div/div/div[2]/div[3]/div[2]/div[2]/label/i\")\n",
    "loc_filter.click()\n"
   ]
  },
  {
   "cell_type": "code",
   "execution_count": 15,
   "id": "dcf97505",
   "metadata": {},
   "outputs": [],
   "source": [
    "salary_filter=driver.find_element(By.XPATH,\"/html/body/div/div/main/div[1]/div[1]/div/div/div[2]/div[2]/div[2]/div[2]/label/i\")\n",
    "salary_filter.click()"
   ]
  },
  {
   "cell_type": "code",
   "execution_count": 32,
   "id": "bce8e845",
   "metadata": {},
   "outputs": [],
   "source": [
    "job_title=[]\n",
    "job_Locations=[]\n",
    "company_name=[]\n",
    "experience_required=[]"
   ]
  },
  {
   "cell_type": "code",
   "execution_count": 34,
   "id": "ff4657db",
   "metadata": {},
   "outputs": [],
   "source": [
    "title_tags=driver.find_elements(By.XPATH,'//a[@class=\"title \"]')\n",
    "for i in title_tags:\n",
    "    title=i.text\n",
    "    job_title.append(title)\n",
    "    \n",
    "job_title= job_title[:10]\n",
    "\n"
   ]
  },
  {
   "cell_type": "code",
   "execution_count": 35,
   "id": "8cb958df",
   "metadata": {},
   "outputs": [
    {
     "data": {
      "text/plain": [
       "['Data Scientist',\n",
       " 'Data Scientist',\n",
       " 'Data Scientist',\n",
       " 'Data Scientist',\n",
       " 'Data Scientist',\n",
       " 'Data Scientist',\n",
       " 'Data Engineer',\n",
       " 'Data Scientist - I',\n",
       " 'Data Scientist',\n",
       " 'Data Scientist']"
      ]
     },
     "execution_count": 35,
     "metadata": {},
     "output_type": "execute_result"
    }
   ],
   "source": [
    "job_title"
   ]
  },
  {
   "cell_type": "code",
   "execution_count": 36,
   "id": "6a9d9af9",
   "metadata": {},
   "outputs": [],
   "source": [
    "locations=driver.find_elements(By.XPATH,'//span[@class=\"ni-job-tuple-icon ni-job-tuple-icon-srp-location loc\"]')\n",
    "for i in locations:\n",
    "    location =i.text\n",
    "    job_Locations.append(location)\n",
    "                            \n",
    "job_Locations=job_Locations[:10]\n",
    "\n"
   ]
  },
  {
   "cell_type": "code",
   "execution_count": 37,
   "id": "a4511b1f",
   "metadata": {},
   "outputs": [
    {
     "data": {
      "text/plain": [
       "['Kolkata, Mumbai, New Delhi, Hyderabad, Pune, Chennai, Bengaluru',\n",
       " 'New Delhi, Gurgaon/Gurugram',\n",
       " 'Gurugram',\n",
       " 'Noida, Hyderabad/Secunderabad, Gurgaon/Gurugram',\n",
       " 'Noida',\n",
       " 'Noida',\n",
       " 'Kolkata, Mumbai, New Delhi, Hyderabad/Secunderabad, Bangalore/Bengaluru',\n",
       " 'Gurugram',\n",
       " 'Gurugram',\n",
       " 'Kolkata, Mumbai, New Delhi, Hyderabad, Pune, Chennai, Bengaluru']"
      ]
     },
     "execution_count": 37,
     "metadata": {},
     "output_type": "execute_result"
    }
   ],
   "source": [
    "job_Locations"
   ]
  },
  {
   "cell_type": "code",
   "execution_count": 38,
   "id": "1111e658",
   "metadata": {},
   "outputs": [
    {
     "data": {
      "text/plain": [
       "['Monnai',\n",
       " '4.0',\n",
       " 'Collegedunia\\n3.0\\n502 Reviews',\n",
       " 'Foreign MNC in Healthcare\\n4.0',\n",
       " 'Tiketcom\\n3.6\\n13 Reviews',\n",
       " 'Innovaccer\\n3.0\\n301 Reviews',\n",
       " 'Big 4 Consulting Firm\\n3.5',\n",
       " 'Netomi\\n4.0\\n2 Reviews',\n",
       " 'Birdeye Australia\\n3.7\\n84 Reviews',\n",
       " 'Futurism Technologies\\n3.6\\n68 Reviews']"
      ]
     },
     "execution_count": 38,
     "metadata": {},
     "output_type": "execute_result"
    }
   ],
   "source": [
    "company_tags=driver.find_elements(By.XPATH,'//span[@class=\" comp-dtls-wrap\"]')\n",
    "for i in company_tags:\n",
    "    company=i.text\n",
    "    company_name.append(company)\n",
    "                                \n",
    "company_name=company_name[:10]\n",
    "\n",
    "company_name"
   ]
  },
  {
   "cell_type": "code",
   "execution_count": 39,
   "id": "ea49d602",
   "metadata": {},
   "outputs": [
    {
     "data": {
      "text/plain": [
       "['3-7 Yrs',\n",
       " '1-6 Yrs',\n",
       " '0-2 Yrs',\n",
       " '1-6 Yrs',\n",
       " '3-7 Yrs',\n",
       " '2-7 Yrs',\n",
       " '4-6 Yrs',\n",
       " '3-6 Yrs',\n",
       " '1-2 Yrs',\n",
       " '2-4 Yrs']"
      ]
     },
     "execution_count": 39,
     "metadata": {},
     "output_type": "execute_result"
    }
   ],
   "source": [
    "experience_tags=driver.find_elements(By.XPATH,'//span[@class=\"ni-job-tuple-icon ni-job-tuple-icon-srp-experience exp\"]')\n",
    "for i in experience_tags:\n",
    "    experience=i.text\n",
    "    experience_required.append(experience)\n",
    "                            \n",
    "experience_required=experience_required[:10]\n",
    "experience_required"
   ]
  },
  {
   "cell_type": "code",
   "execution_count": 40,
   "id": "1a3095b0",
   "metadata": {
    "scrolled": true
   },
   "outputs": [
    {
     "data": {
      "text/html": [
       "<div>\n",
       "<style scoped>\n",
       "    .dataframe tbody tr th:only-of-type {\n",
       "        vertical-align: middle;\n",
       "    }\n",
       "\n",
       "    .dataframe tbody tr th {\n",
       "        vertical-align: top;\n",
       "    }\n",
       "\n",
       "    .dataframe thead th {\n",
       "        text-align: right;\n",
       "    }\n",
       "</style>\n",
       "<table border=\"1\" class=\"dataframe\">\n",
       "  <thead>\n",
       "    <tr style=\"text-align: right;\">\n",
       "      <th></th>\n",
       "      <th>Job Title</th>\n",
       "      <th>Location</th>\n",
       "      <th>Company name</th>\n",
       "      <th>Experience required</th>\n",
       "    </tr>\n",
       "  </thead>\n",
       "  <tbody>\n",
       "    <tr>\n",
       "      <th>0</th>\n",
       "      <td>Data Scientist</td>\n",
       "      <td>Kolkata, Mumbai, New Delhi, Hyderabad, Pune, C...</td>\n",
       "      <td>Monnai</td>\n",
       "      <td>3-7 Yrs</td>\n",
       "    </tr>\n",
       "    <tr>\n",
       "      <th>1</th>\n",
       "      <td>Data Scientist</td>\n",
       "      <td>New Delhi, Gurgaon/Gurugram</td>\n",
       "      <td>4.0</td>\n",
       "      <td>1-6 Yrs</td>\n",
       "    </tr>\n",
       "    <tr>\n",
       "      <th>2</th>\n",
       "      <td>Data Scientist</td>\n",
       "      <td>Gurugram</td>\n",
       "      <td>Collegedunia\\n3.0\\n502 Reviews</td>\n",
       "      <td>0-2 Yrs</td>\n",
       "    </tr>\n",
       "    <tr>\n",
       "      <th>3</th>\n",
       "      <td>Data Scientist</td>\n",
       "      <td>Noida, Hyderabad/Secunderabad, Gurgaon/Gurugram</td>\n",
       "      <td>Foreign MNC in Healthcare\\n4.0</td>\n",
       "      <td>1-6 Yrs</td>\n",
       "    </tr>\n",
       "    <tr>\n",
       "      <th>4</th>\n",
       "      <td>Data Scientist</td>\n",
       "      <td>Noida</td>\n",
       "      <td>Tiketcom\\n3.6\\n13 Reviews</td>\n",
       "      <td>3-7 Yrs</td>\n",
       "    </tr>\n",
       "    <tr>\n",
       "      <th>5</th>\n",
       "      <td>Data Scientist</td>\n",
       "      <td>Noida</td>\n",
       "      <td>Innovaccer\\n3.0\\n301 Reviews</td>\n",
       "      <td>2-7 Yrs</td>\n",
       "    </tr>\n",
       "    <tr>\n",
       "      <th>6</th>\n",
       "      <td>Data Engineer</td>\n",
       "      <td>Kolkata, Mumbai, New Delhi, Hyderabad/Secunder...</td>\n",
       "      <td>Big 4 Consulting Firm\\n3.5</td>\n",
       "      <td>4-6 Yrs</td>\n",
       "    </tr>\n",
       "    <tr>\n",
       "      <th>7</th>\n",
       "      <td>Data Scientist - I</td>\n",
       "      <td>Gurugram</td>\n",
       "      <td>Netomi\\n4.0\\n2 Reviews</td>\n",
       "      <td>3-6 Yrs</td>\n",
       "    </tr>\n",
       "    <tr>\n",
       "      <th>8</th>\n",
       "      <td>Data Scientist</td>\n",
       "      <td>Gurugram</td>\n",
       "      <td>Birdeye Australia\\n3.7\\n84 Reviews</td>\n",
       "      <td>1-2 Yrs</td>\n",
       "    </tr>\n",
       "    <tr>\n",
       "      <th>9</th>\n",
       "      <td>Data Scientist</td>\n",
       "      <td>Kolkata, Mumbai, New Delhi, Hyderabad, Pune, C...</td>\n",
       "      <td>Futurism Technologies\\n3.6\\n68 Reviews</td>\n",
       "      <td>2-4 Yrs</td>\n",
       "    </tr>\n",
       "  </tbody>\n",
       "</table>\n",
       "</div>"
      ],
      "text/plain": [
       "            Job Title                                           Location  \\\n",
       "0      Data Scientist  Kolkata, Mumbai, New Delhi, Hyderabad, Pune, C...   \n",
       "1      Data Scientist                        New Delhi, Gurgaon/Gurugram   \n",
       "2      Data Scientist                                           Gurugram   \n",
       "3      Data Scientist    Noida, Hyderabad/Secunderabad, Gurgaon/Gurugram   \n",
       "4      Data Scientist                                              Noida   \n",
       "5      Data Scientist                                              Noida   \n",
       "6       Data Engineer  Kolkata, Mumbai, New Delhi, Hyderabad/Secunder...   \n",
       "7  Data Scientist - I                                           Gurugram   \n",
       "8      Data Scientist                                           Gurugram   \n",
       "9      Data Scientist  Kolkata, Mumbai, New Delhi, Hyderabad, Pune, C...   \n",
       "\n",
       "                             Company name Experience required  \n",
       "0                                  Monnai             3-7 Yrs  \n",
       "1                                     4.0             1-6 Yrs  \n",
       "2          Collegedunia\\n3.0\\n502 Reviews             0-2 Yrs  \n",
       "3          Foreign MNC in Healthcare\\n4.0             1-6 Yrs  \n",
       "4               Tiketcom\\n3.6\\n13 Reviews             3-7 Yrs  \n",
       "5            Innovaccer\\n3.0\\n301 Reviews             2-7 Yrs  \n",
       "6              Big 4 Consulting Firm\\n3.5             4-6 Yrs  \n",
       "7                  Netomi\\n4.0\\n2 Reviews             3-6 Yrs  \n",
       "8      Birdeye Australia\\n3.7\\n84 Reviews             1-2 Yrs  \n",
       "9  Futurism Technologies\\n3.6\\n68 Reviews             2-4 Yrs  "
      ]
     },
     "execution_count": 40,
     "metadata": {},
     "output_type": "execute_result"
    }
   ],
   "source": [
    "df = pd.DataFrame({\"Job Title\":job_title,\"Location\":job_Locations,\"Company name\":company_name,\"Experience required\":experience_required})\n",
    "df"
   ]
  },
  {
   "cell_type": "markdown",
   "id": "2e393bb4",
   "metadata": {},
   "source": [
    "## Q2: Write a python program to scrape data for “Data Scientist” Job position in “Bangalore”location from shine.com. You have to scrape the job-title, job-location, company_name, experience_required. You have to scrape first 10 jobs data."
   ]
  },
  {
   "cell_type": "code",
   "execution_count": 41,
   "id": "f6136111",
   "metadata": {},
   "outputs": [
    {
     "name": "stdout",
     "output_type": "stream",
     "text": [
      "Requirement already satisfied: selenium in /Users/pratikajain/anaconda3/lib/python3.10/site-packages (4.17.2)\n",
      "Requirement already satisfied: trio~=0.17 in /Users/pratikajain/anaconda3/lib/python3.10/site-packages (from selenium) (0.24.0)\n",
      "Requirement already satisfied: trio-websocket~=0.9 in /Users/pratikajain/anaconda3/lib/python3.10/site-packages (from selenium) (0.11.1)\n",
      "Requirement already satisfied: urllib3[socks]<3,>=1.26 in /Users/pratikajain/anaconda3/lib/python3.10/site-packages (from selenium) (1.26.14)\n",
      "Requirement already satisfied: certifi>=2021.10.8 in /Users/pratikajain/anaconda3/lib/python3.10/site-packages (from selenium) (2022.12.7)\n",
      "Requirement already satisfied: typing_extensions>=4.9.0 in /Users/pratikajain/anaconda3/lib/python3.10/site-packages (from selenium) (4.9.0)\n",
      "Requirement already satisfied: attrs>=20.1.0 in /Users/pratikajain/anaconda3/lib/python3.10/site-packages (from trio~=0.17->selenium) (22.1.0)\n",
      "Requirement already satisfied: idna in /Users/pratikajain/anaconda3/lib/python3.10/site-packages (from trio~=0.17->selenium) (3.4)\n",
      "Requirement already satisfied: sniffio>=1.3.0 in /Users/pratikajain/anaconda3/lib/python3.10/site-packages (from trio~=0.17->selenium) (1.3.0)\n",
      "Requirement already satisfied: outcome in /Users/pratikajain/anaconda3/lib/python3.10/site-packages (from trio~=0.17->selenium) (1.3.0.post0)\n",
      "Requirement already satisfied: sortedcontainers in /Users/pratikajain/anaconda3/lib/python3.10/site-packages (from trio~=0.17->selenium) (2.4.0)\n",
      "Requirement already satisfied: exceptiongroup in /Users/pratikajain/anaconda3/lib/python3.10/site-packages (from trio~=0.17->selenium) (1.2.0)\n",
      "Requirement already satisfied: wsproto>=0.14 in /Users/pratikajain/anaconda3/lib/python3.10/site-packages (from trio-websocket~=0.9->selenium) (1.2.0)\n",
      "Requirement already satisfied: PySocks!=1.5.7,<2.0,>=1.5.6 in /Users/pratikajain/anaconda3/lib/python3.10/site-packages (from urllib3[socks]<3,>=1.26->selenium) (1.7.1)\n",
      "Requirement already satisfied: h11<1,>=0.9.0 in /Users/pratikajain/anaconda3/lib/python3.10/site-packages (from wsproto>=0.14->trio-websocket~=0.9->selenium) (0.14.0)\n"
     ]
    }
   ],
   "source": [
    "!pip install selenium\n",
    "import selenium\n",
    "import pandas as pd\n",
    "from selenium import webdriver\n",
    "import warnings\n",
    "warnings.filterwarnings('ignore')\n",
    "from selenium.webdriver.common.by import By\n",
    "import time"
   ]
  },
  {
   "cell_type": "code",
   "execution_count": 43,
   "id": "46a1c53e",
   "metadata": {},
   "outputs": [],
   "source": [
    "driver = webdriver.Chrome()"
   ]
  },
  {
   "cell_type": "code",
   "execution_count": 46,
   "id": "ea669cda",
   "metadata": {},
   "outputs": [],
   "source": [
    "driver.get(\"https://www.shine.com/\")"
   ]
  },
  {
   "cell_type": "code",
   "execution_count": 47,
   "id": "e996018f",
   "metadata": {},
   "outputs": [],
   "source": [
    "designation = driver.find_element(By.CLASS_NAME,\"input\")\n",
    "designation.send_keys('Data Scientist')"
   ]
  },
  {
   "cell_type": "code",
   "execution_count": 49,
   "id": "e84debba",
   "metadata": {},
   "outputs": [],
   "source": [
    "search=driver.find_element(By.XPATH,\"/html/body/div/header/div[3]/div/div/div[1]/div/span\")\n",
    "search.click()"
   ]
  },
  {
   "cell_type": "code",
   "execution_count": 50,
   "id": "f5cad610",
   "metadata": {},
   "outputs": [],
   "source": [
    "designation = driver.find_element(By.CLASS_NAME,\"form-control\")\n",
    "designation.send_keys('Data Scientist')\n",
    "location =driver.find_element(By.ID,\"id_loc\")\n",
    "location.send_keys('Bangalore')"
   ]
  },
  {
   "cell_type": "code",
   "execution_count": 51,
   "id": "6aea1bfc",
   "metadata": {},
   "outputs": [],
   "source": [
    "search=driver.find_element(By.XPATH,\"/html/body/div/div[4]/div/div[2]/div[2]/div/form/div/div[2]/div/button\")\n",
    "search.click()"
   ]
  },
  {
   "cell_type": "code",
   "execution_count": 52,
   "id": "2f4b29ca",
   "metadata": {},
   "outputs": [],
   "source": [
    "job_title=[]\n",
    "job_locations=[]\n",
    "company_name=[]\n",
    "experience_required=[]"
   ]
  },
  {
   "cell_type": "code",
   "execution_count": 55,
   "id": "183094f4",
   "metadata": {},
   "outputs": [],
   "source": [
    "title_tags=driver.find_elements(By.XPATH,'//strong[@class=\"jobCard_pReplaceH2__xWmHg\"]')\n",
    "for i in title_tags:\n",
    "    title=i.text\n",
    "    job_title.append(title)\n",
    "    \n",
    "job_title= job_title[:10]\n",
    "\n",
    "locations=driver.find_elements(By.XPATH,'//div[@class=\"jobCard_jobCard_lists_item__YxRkV jobCard_locationIcon__zrWt2\"]')\n",
    "for i in locations:\n",
    "    location =i.text\n",
    "    job_locations.append(location)\n",
    "                            \n",
    "job_locations=job_locations[:10]"
   ]
  },
  {
   "cell_type": "code",
   "execution_count": 53,
   "id": "f3e6af68",
   "metadata": {},
   "outputs": [],
   "source": [
    "\n",
    "\n",
    "company_tags=driver.find_elements(By.XPATH,'//div[@class=\"jobCard_jobCard_cName__mYnow\"]//span')\n",
    "for i in company_tags:\n",
    "    company=i.text\n",
    "    company_name.append(company)\n",
    "                                \n",
    "company_name=company_name[:10]\n",
    "\n",
    "experience_tags=driver.find_elements(By.XPATH,'//div[@class=\" jobCard_jobCard_lists_item__YxRkV jobCard_jobIcon__3FB1t\"]')\n",
    "for i in experience_tags:\n",
    "    experience=i.text\n",
    "    experience_required.append(experience)\n",
    "                            \n",
    "experience_required=experience_required[:10]"
   ]
  },
  {
   "cell_type": "code",
   "execution_count": 56,
   "id": "f2b1c6ce",
   "metadata": {},
   "outputs": [
    {
     "name": "stdout",
     "output_type": "stream",
     "text": [
      "10 10 10 10\n"
     ]
    }
   ],
   "source": [
    "print(len(job_title),len(job_locations),len(company_name),len(experience_required))"
   ]
  },
  {
   "cell_type": "code",
   "execution_count": 57,
   "id": "13bc7b27",
   "metadata": {},
   "outputs": [
    {
     "data": {
      "text/html": [
       "<div>\n",
       "<style scoped>\n",
       "    .dataframe tbody tr th:only-of-type {\n",
       "        vertical-align: middle;\n",
       "    }\n",
       "\n",
       "    .dataframe tbody tr th {\n",
       "        vertical-align: top;\n",
       "    }\n",
       "\n",
       "    .dataframe thead th {\n",
       "        text-align: right;\n",
       "    }\n",
       "</style>\n",
       "<table border=\"1\" class=\"dataframe\">\n",
       "  <thead>\n",
       "    <tr style=\"text-align: right;\">\n",
       "      <th></th>\n",
       "      <th>Job Title</th>\n",
       "      <th>Location</th>\n",
       "      <th>Company name</th>\n",
       "      <th>Experience required</th>\n",
       "    </tr>\n",
       "  </thead>\n",
       "  <tbody>\n",
       "    <tr>\n",
       "      <th>0</th>\n",
       "      <td>Data Scientist In SINGAPORE</td>\n",
       "      <td>Bangalore\\n+1</td>\n",
       "      <td>adal immigrations llp</td>\n",
       "      <td>3 to 8 Yrs</td>\n",
       "    </tr>\n",
       "    <tr>\n",
       "      <th>1</th>\n",
       "      <td>Data Scientist</td>\n",
       "      <td>Bangalore\\n+6</td>\n",
       "      <td>techno endura</td>\n",
       "      <td>0 to 2 Yrs</td>\n",
       "    </tr>\n",
       "    <tr>\n",
       "      <th>2</th>\n",
       "      <td>Lead Data Scientist</td>\n",
       "      <td>Bangalore\\n+8</td>\n",
       "      <td>spento papers (india) llp</td>\n",
       "      <td>12 to 22 Yrs</td>\n",
       "    </tr>\n",
       "    <tr>\n",
       "      <th>3</th>\n",
       "      <td>Data Scientist</td>\n",
       "      <td>Bangalore\\n+9</td>\n",
       "      <td>future solution centre</td>\n",
       "      <td>2 to 7 Yrs</td>\n",
       "    </tr>\n",
       "    <tr>\n",
       "      <th>4</th>\n",
       "      <td>Data Scientist</td>\n",
       "      <td>Bangalore\\n+2</td>\n",
       "      <td>the christopher's consulting and re...</td>\n",
       "      <td>0 to 2 Yrs</td>\n",
       "    </tr>\n",
       "    <tr>\n",
       "      <th>5</th>\n",
       "      <td>Data Scientist</td>\n",
       "      <td>Bangalore</td>\n",
       "      <td>eliterecruitments hiring for global...</td>\n",
       "      <td>4 to 8 Yrs</td>\n",
       "    </tr>\n",
       "    <tr>\n",
       "      <th>6</th>\n",
       "      <td>Data Scientist</td>\n",
       "      <td>Bangalore\\n+9</td>\n",
       "      <td>divya staffing solution</td>\n",
       "      <td>0 to 4 Yrs</td>\n",
       "    </tr>\n",
       "    <tr>\n",
       "      <th>7</th>\n",
       "      <td>Data Science Analytics</td>\n",
       "      <td>Bangalore\\n+7</td>\n",
       "      <td>mackenzie modern it solutions priva...</td>\n",
       "      <td>5 to 8 Yrs</td>\n",
       "    </tr>\n",
       "    <tr>\n",
       "      <th>8</th>\n",
       "      <td>Data Science Manager</td>\n",
       "      <td>Bangalore\\n+7</td>\n",
       "      <td>mackenzie modern it solutions priva...</td>\n",
       "      <td>3 to 8 Yrs</td>\n",
       "    </tr>\n",
       "    <tr>\n",
       "      <th>9</th>\n",
       "      <td>Data Analyst</td>\n",
       "      <td>Bangalore\\n+4</td>\n",
       "      <td>aryan technology</td>\n",
       "      <td>0 to 4 Yrs</td>\n",
       "    </tr>\n",
       "  </tbody>\n",
       "</table>\n",
       "</div>"
      ],
      "text/plain": [
       "                     Job Title       Location  \\\n",
       "0  Data Scientist In SINGAPORE  Bangalore\\n+1   \n",
       "1               Data Scientist  Bangalore\\n+6   \n",
       "2          Lead Data Scientist  Bangalore\\n+8   \n",
       "3               Data Scientist  Bangalore\\n+9   \n",
       "4               Data Scientist  Bangalore\\n+2   \n",
       "5               Data Scientist      Bangalore   \n",
       "6               Data Scientist  Bangalore\\n+9   \n",
       "7       Data Science Analytics  Bangalore\\n+7   \n",
       "8         Data Science Manager  Bangalore\\n+7   \n",
       "9                 Data Analyst  Bangalore\\n+4   \n",
       "\n",
       "                             Company name Experience required  \n",
       "0                   adal immigrations llp          3 to 8 Yrs  \n",
       "1                           techno endura          0 to 2 Yrs  \n",
       "2               spento papers (india) llp        12 to 22 Yrs  \n",
       "3                  future solution centre          2 to 7 Yrs  \n",
       "4  the christopher's consulting and re...          0 to 2 Yrs  \n",
       "5  eliterecruitments hiring for global...          4 to 8 Yrs  \n",
       "6                 divya staffing solution          0 to 4 Yrs  \n",
       "7  mackenzie modern it solutions priva...          5 to 8 Yrs  \n",
       "8  mackenzie modern it solutions priva...          3 to 8 Yrs  \n",
       "9                        aryan technology          0 to 4 Yrs  "
      ]
     },
     "execution_count": 57,
     "metadata": {},
     "output_type": "execute_result"
    }
   ],
   "source": [
    "df = pd.DataFrame({\"Job Title\":job_title,\"Location\":job_locations,\"Company name\":company_name,\"Experience required\":experience_required})\n",
    "df"
   ]
  },
  {
   "cell_type": "markdown",
   "id": "c183c055",
   "metadata": {},
   "source": [
    "## Q3: Scrape 100 reviews data from flipkart.com for iphone11 phone"
   ]
  },
  {
   "cell_type": "code",
   "execution_count": 59,
   "id": "ef7121d0",
   "metadata": {},
   "outputs": [
    {
     "name": "stdout",
     "output_type": "stream",
     "text": [
      "Requirement already satisfied: selenium in /Users/pratikajain/anaconda3/lib/python3.10/site-packages (4.17.2)\r\n",
      "Requirement already satisfied: trio-websocket~=0.9 in /Users/pratikajain/anaconda3/lib/python3.10/site-packages (from selenium) (0.11.1)\r\n",
      "Requirement already satisfied: trio~=0.17 in /Users/pratikajain/anaconda3/lib/python3.10/site-packages (from selenium) (0.24.0)\r\n",
      "Requirement already satisfied: urllib3[socks]<3,>=1.26 in /Users/pratikajain/anaconda3/lib/python3.10/site-packages (from selenium) (1.26.14)\r\n",
      "Requirement already satisfied: certifi>=2021.10.8 in /Users/pratikajain/anaconda3/lib/python3.10/site-packages (from selenium) (2022.12.7)\r\n",
      "Requirement already satisfied: typing_extensions>=4.9.0 in /Users/pratikajain/anaconda3/lib/python3.10/site-packages (from selenium) (4.9.0)\r\n",
      "Requirement already satisfied: outcome in /Users/pratikajain/anaconda3/lib/python3.10/site-packages (from trio~=0.17->selenium) (1.3.0.post0)\r\n",
      "Requirement already satisfied: exceptiongroup in /Users/pratikajain/anaconda3/lib/python3.10/site-packages (from trio~=0.17->selenium) (1.2.0)\r\n",
      "Requirement already satisfied: attrs>=20.1.0 in /Users/pratikajain/anaconda3/lib/python3.10/site-packages (from trio~=0.17->selenium) (22.1.0)\r\n",
      "Requirement already satisfied: sniffio>=1.3.0 in /Users/pratikajain/anaconda3/lib/python3.10/site-packages (from trio~=0.17->selenium) (1.3.0)\r\n",
      "Requirement already satisfied: sortedcontainers in /Users/pratikajain/anaconda3/lib/python3.10/site-packages (from trio~=0.17->selenium) (2.4.0)\r\n",
      "Requirement already satisfied: idna in /Users/pratikajain/anaconda3/lib/python3.10/site-packages (from trio~=0.17->selenium) (3.4)\r\n",
      "Requirement already satisfied: wsproto>=0.14 in /Users/pratikajain/anaconda3/lib/python3.10/site-packages (from trio-websocket~=0.9->selenium) (1.2.0)\r\n",
      "Requirement already satisfied: PySocks!=1.5.7,<2.0,>=1.5.6 in /Users/pratikajain/anaconda3/lib/python3.10/site-packages (from urllib3[socks]<3,>=1.26->selenium) (1.7.1)\r\n",
      "Requirement already satisfied: h11<1,>=0.9.0 in /Users/pratikajain/anaconda3/lib/python3.10/site-packages (from wsproto>=0.14->trio-websocket~=0.9->selenium) (0.14.0)\r\n"
     ]
    }
   ],
   "source": [
    "!pip install selenium\n",
    "import selenium\n",
    "import pandas as pd\n",
    "from selenium import webdriver\n",
    "import warnings\n",
    "warnings.filterwarnings('ignore')\n",
    "from selenium.webdriver.common.by import By\n",
    "import time"
   ]
  },
  {
   "cell_type": "code",
   "execution_count": 61,
   "id": "0b6f8fd0",
   "metadata": {},
   "outputs": [],
   "source": [
    "driver = webdriver.Chrome()"
   ]
  },
  {
   "cell_type": "code",
   "execution_count": 62,
   "id": "310d6993",
   "metadata": {},
   "outputs": [],
   "source": [
    "driver.get(\"https://www.flipkart.com/apple-iphone-11-black-64-gb/product-reviews/itm4e5041ba101fd?pid=MOBFWQ6BXGJCEYNY&lid=LSTMOBFWQ6BXGJCEYNYZXSHRJ&market\")"
   ]
  },
  {
   "cell_type": "code",
   "execution_count": 63,
   "id": "8fe5be39",
   "metadata": {},
   "outputs": [],
   "source": [
    "Ratings=[]\n",
    "Review_summary=[]\n",
    "Full_review=[]"
   ]
  },
  {
   "cell_type": "code",
   "execution_count": 67,
   "id": "71369323",
   "metadata": {},
   "outputs": [],
   "source": [
    "start=0\n",
    "end=10\n",
    "for page in range(start,end):\n",
    "    \n",
    "    rating_tag=driver.find_elements(By.XPATH,'//div[@class=\"XQDdHH Ga3i8K\"]')\n",
    "    for i in rating_tag:\n",
    "        rating=i.text\n",
    "        Ratings.append(rating)\n",
    "\n",
    "    Review_tag=driver.find_elements(By.XPATH,'//p[@class=\"z9E0IG\"]')\n",
    "    for i in Review_tag:\n",
    "        Review =i.text\n",
    "        Review_summary.append(Review)\n",
    "                            \n",
    "    Full_rev_tag=driver.find_elements(By.XPATH,'//div[@class=\"ZmyHeo\"]//div//div')\n",
    "    for i in Full_rev_tag:\n",
    "        rev=i.text\n",
    "        Full_review.append(rev)\n",
    "        \n",
    "    next_button=driver.find_element(By.XPATH,'//a[@class=\"_9QVEpD\"]//span')\n",
    "    next_button.click()\n",
    "    time.sleep(3)"
   ]
  },
  {
   "cell_type": "code",
   "execution_count": 68,
   "id": "ef2c0142",
   "metadata": {},
   "outputs": [
    {
     "name": "stdout",
     "output_type": "stream",
     "text": [
      "100 100 100\n"
     ]
    }
   ],
   "source": [
    "print(len(Ratings),len(Review_summary),len(Full_review))"
   ]
  },
  {
   "cell_type": "code",
   "execution_count": 69,
   "id": "4fe719d9",
   "metadata": {},
   "outputs": [
    {
     "data": {
      "text/html": [
       "<div>\n",
       "<style scoped>\n",
       "    .dataframe tbody tr th:only-of-type {\n",
       "        vertical-align: middle;\n",
       "    }\n",
       "\n",
       "    .dataframe tbody tr th {\n",
       "        vertical-align: top;\n",
       "    }\n",
       "\n",
       "    .dataframe thead th {\n",
       "        text-align: right;\n",
       "    }\n",
       "</style>\n",
       "<table border=\"1\" class=\"dataframe\">\n",
       "  <thead>\n",
       "    <tr style=\"text-align: right;\">\n",
       "      <th></th>\n",
       "      <th>Ratings</th>\n",
       "      <th>Review Summary</th>\n",
       "      <th>Full Review</th>\n",
       "    </tr>\n",
       "  </thead>\n",
       "  <tbody>\n",
       "    <tr>\n",
       "      <th>0</th>\n",
       "      <td>5</td>\n",
       "      <td>Terrific</td>\n",
       "      <td>Very very good</td>\n",
       "    </tr>\n",
       "    <tr>\n",
       "      <th>1</th>\n",
       "      <td>5</td>\n",
       "      <td>Classy product</td>\n",
       "      <td>Camera is awesome\\nBest battery backup\\nA perf...</td>\n",
       "    </tr>\n",
       "    <tr>\n",
       "      <th>2</th>\n",
       "      <td>5</td>\n",
       "      <td>Best in the market!</td>\n",
       "      <td>Good Camera</td>\n",
       "    </tr>\n",
       "    <tr>\n",
       "      <th>3</th>\n",
       "      <td>5</td>\n",
       "      <td>Terrific purchase</td>\n",
       "      <td>Value for money 😍</td>\n",
       "    </tr>\n",
       "    <tr>\n",
       "      <th>4</th>\n",
       "      <td>5</td>\n",
       "      <td>Worth every penny</td>\n",
       "      <td>Feeling awesome after getting the delivery of ...</td>\n",
       "    </tr>\n",
       "    <tr>\n",
       "      <th>...</th>\n",
       "      <td>...</td>\n",
       "      <td>...</td>\n",
       "      <td>...</td>\n",
       "    </tr>\n",
       "    <tr>\n",
       "      <th>95</th>\n",
       "      <td>5</td>\n",
       "      <td>Fabulous!</td>\n",
       "      <td>It’s very good battery life and display and vi...</td>\n",
       "    </tr>\n",
       "    <tr>\n",
       "      <th>96</th>\n",
       "      <td>5</td>\n",
       "      <td>Brilliant</td>\n",
       "      <td>very good camera quality</td>\n",
       "    </tr>\n",
       "    <tr>\n",
       "      <th>97</th>\n",
       "      <td>5</td>\n",
       "      <td>Terrific purchase</td>\n",
       "      <td>Value for money 🖤🖤</td>\n",
       "    </tr>\n",
       "    <tr>\n",
       "      <th>98</th>\n",
       "      <td>5</td>\n",
       "      <td>Super!</td>\n",
       "      <td>Good product 👌I love iPhone</td>\n",
       "    </tr>\n",
       "    <tr>\n",
       "      <th>99</th>\n",
       "      <td>5</td>\n",
       "      <td>Simply awesome</td>\n",
       "      <td>Really satisfied with the Product I received.....</td>\n",
       "    </tr>\n",
       "  </tbody>\n",
       "</table>\n",
       "<p>100 rows × 3 columns</p>\n",
       "</div>"
      ],
      "text/plain": [
       "   Ratings       Review Summary  \\\n",
       "0        5             Terrific   \n",
       "1        5       Classy product   \n",
       "2        5  Best in the market!   \n",
       "3        5    Terrific purchase   \n",
       "4        5    Worth every penny   \n",
       "..     ...                  ...   \n",
       "95       5            Fabulous!   \n",
       "96       5            Brilliant   \n",
       "97       5    Terrific purchase   \n",
       "98       5               Super!   \n",
       "99       5       Simply awesome   \n",
       "\n",
       "                                          Full Review  \n",
       "0                                      Very very good  \n",
       "1   Camera is awesome\\nBest battery backup\\nA perf...  \n",
       "2                                         Good Camera  \n",
       "3                                   Value for money 😍  \n",
       "4   Feeling awesome after getting the delivery of ...  \n",
       "..                                                ...  \n",
       "95  It’s very good battery life and display and vi...  \n",
       "96                           very good camera quality  \n",
       "97                                 Value for money 🖤🖤  \n",
       "98                        Good product 👌I love iPhone  \n",
       "99  Really satisfied with the Product I received.....  \n",
       "\n",
       "[100 rows x 3 columns]"
      ]
     },
     "execution_count": 69,
     "metadata": {},
     "output_type": "execute_result"
    }
   ],
   "source": [
    "df=pd.DataFrame({\"Ratings\":Ratings,\"Review Summary\":Review_summary,\"Full Review\":Full_review})\n",
    "df"
   ]
  },
  {
   "cell_type": "markdown",
   "id": "d4cecb19",
   "metadata": {},
   "source": [
    "## Q4: Scrape data forfirst 100 sneakers you find whenyouvisitflipkart.com and search for “sneakers” inthe search field."
   ]
  },
  {
   "cell_type": "code",
   "execution_count": 70,
   "id": "761c1b47",
   "metadata": {},
   "outputs": [
    {
     "name": "stdout",
     "output_type": "stream",
     "text": [
      "Requirement already satisfied: selenium in /Users/pratikajain/anaconda3/lib/python3.10/site-packages (4.17.2)\n",
      "Requirement already satisfied: certifi>=2021.10.8 in /Users/pratikajain/anaconda3/lib/python3.10/site-packages (from selenium) (2022.12.7)\n",
      "Requirement already satisfied: urllib3[socks]<3,>=1.26 in /Users/pratikajain/anaconda3/lib/python3.10/site-packages (from selenium) (1.26.14)\n",
      "Requirement already satisfied: trio-websocket~=0.9 in /Users/pratikajain/anaconda3/lib/python3.10/site-packages (from selenium) (0.11.1)\n",
      "Requirement already satisfied: trio~=0.17 in /Users/pratikajain/anaconda3/lib/python3.10/site-packages (from selenium) (0.24.0)\n",
      "Requirement already satisfied: typing_extensions>=4.9.0 in /Users/pratikajain/anaconda3/lib/python3.10/site-packages (from selenium) (4.9.0)\n",
      "Requirement already satisfied: sniffio>=1.3.0 in /Users/pratikajain/anaconda3/lib/python3.10/site-packages (from trio~=0.17->selenium) (1.3.0)\n",
      "Requirement already satisfied: exceptiongroup in /Users/pratikajain/anaconda3/lib/python3.10/site-packages (from trio~=0.17->selenium) (1.2.0)\n",
      "Requirement already satisfied: sortedcontainers in /Users/pratikajain/anaconda3/lib/python3.10/site-packages (from trio~=0.17->selenium) (2.4.0)\n",
      "Requirement already satisfied: idna in /Users/pratikajain/anaconda3/lib/python3.10/site-packages (from trio~=0.17->selenium) (3.4)\n",
      "Requirement already satisfied: outcome in /Users/pratikajain/anaconda3/lib/python3.10/site-packages (from trio~=0.17->selenium) (1.3.0.post0)\n",
      "Requirement already satisfied: attrs>=20.1.0 in /Users/pratikajain/anaconda3/lib/python3.10/site-packages (from trio~=0.17->selenium) (22.1.0)\n",
      "Requirement already satisfied: wsproto>=0.14 in /Users/pratikajain/anaconda3/lib/python3.10/site-packages (from trio-websocket~=0.9->selenium) (1.2.0)\n",
      "Requirement already satisfied: PySocks!=1.5.7,<2.0,>=1.5.6 in /Users/pratikajain/anaconda3/lib/python3.10/site-packages (from urllib3[socks]<3,>=1.26->selenium) (1.7.1)\n",
      "Requirement already satisfied: h11<1,>=0.9.0 in /Users/pratikajain/anaconda3/lib/python3.10/site-packages (from wsproto>=0.14->trio-websocket~=0.9->selenium) (0.14.0)\n"
     ]
    }
   ],
   "source": [
    "!pip install selenium\n",
    "import selenium\n",
    "import pandas as pd\n",
    "from selenium import webdriver\n",
    "import warnings\n",
    "warnings.filterwarnings('ignore')\n",
    "from selenium.webdriver.common.by import By\n",
    "import time"
   ]
  },
  {
   "cell_type": "code",
   "execution_count": 71,
   "id": "4bee29ec",
   "metadata": {},
   "outputs": [],
   "source": [
    "driver = webdriver.Chrome()"
   ]
  },
  {
   "cell_type": "code",
   "execution_count": 72,
   "id": "038c070f",
   "metadata": {},
   "outputs": [],
   "source": [
    "driver.get(\"https://www.flipkart.com/\")"
   ]
  },
  {
   "cell_type": "code",
   "execution_count": 73,
   "id": "8283b59f",
   "metadata": {},
   "outputs": [],
   "source": [
    "Product = driver.find_element(By.CLASS_NAME,\"Pke_EE\")\n",
    "Product.send_keys('Sneakers')"
   ]
  },
  {
   "cell_type": "code",
   "execution_count": 74,
   "id": "3ddc3d96",
   "metadata": {},
   "outputs": [],
   "source": [
    "Brands =[]\n",
    "Products_description=[]\n",
    "Prices=[]"
   ]
  },
  {
   "cell_type": "code",
   "execution_count": 76,
   "id": "9b8b623a",
   "metadata": {},
   "outputs": [],
   "source": [
    "start=0\n",
    "end=3\n",
    "for page in range(start,end):\n",
    "    Brand_name=driver.find_elements(By.XPATH,'//div[@class=\"syl9yP\"]')\n",
    "    for i in Brand_name:\n",
    "        Brand=i.text\n",
    "        Brands.append(Brand)\n",
    "\n",
    "    Description=driver.find_elements(By.XPATH,'//a[@class=\"WKTcLC BwBZTg\"]')\n",
    "    for i in Description:\n",
    "        Product_description =i.text\n",
    "        Products_description.append(Product_description)\n",
    "                            \n",
    "    prices_tag=driver.find_elements(By.XPATH,'//div[@class=\"Nx9bqj\"]')\n",
    "    for i in prices_tag:\n",
    "        price=i.text\n",
    "        Prices.append(price)\n",
    "        \n",
    "    next_button=driver.find_element(By.XPATH,'//a[@class=\"_9QVEpD\"]//span')\n",
    "    next_button.click()\n",
    "    time.sleep(3)"
   ]
  },
  {
   "cell_type": "code",
   "execution_count": 77,
   "id": "e3cd6de3",
   "metadata": {},
   "outputs": [
    {
     "name": "stdout",
     "output_type": "stream",
     "text": [
      "120 56 120\n"
     ]
    }
   ],
   "source": [
    "print(len(Brands),len(Products_description),len(Prices))"
   ]
  },
  {
   "cell_type": "code",
   "execution_count": 81,
   "id": "0da60cc9",
   "metadata": {
    "scrolled": true
   },
   "outputs": [
    {
     "data": {
      "text/plain": [
       "['Aeonik',\n",
       " 'Aeonik',\n",
       " 'PUMA',\n",
       " 'PUMA',\n",
       " 'HOTSTYLE',\n",
       " 'corsac',\n",
       " 'PUMA',\n",
       " 'asian',\n",
       " 'HERE&NOW',\n",
       " 'Red Tape',\n",
       " 'tigonis',\n",
       " 'Nobelite',\n",
       " 'CAMPUS',\n",
       " 'PUMA',\n",
       " 'Roadster',\n",
       " 'PUMA',\n",
       " 'Aeonik',\n",
       " \"K' Footlance\",\n",
       " 'Red Tape',\n",
       " 'Roadster',\n",
       " \"K' Footlance\",\n",
       " 'Xtoon',\n",
       " 'CAMPUS',\n",
       " 'Red Tape',\n",
       " 'CAMPUS',\n",
       " 'PUMA',\n",
       " 'Shozie',\n",
       " 'AMICO',\n",
       " 'Skechers',\n",
       " 'Roadster',\n",
       " 'Xtoon',\n",
       " 'Red Tape',\n",
       " 'PUMA',\n",
       " 'CAMPUS',\n",
       " 'G WALK',\n",
       " 'HRX by Hrithik Roshan',\n",
       " 'PUMA',\n",
       " 'CAMPUS',\n",
       " 'Karsun',\n",
       " 'CAMPUS',\n",
       " 'CLYMB',\n",
       " 'FREEMO',\n",
       " 'CAMPUS',\n",
       " 'PUMA',\n",
       " 'jootiyapa',\n",
       " 'asian',\n",
       " 'Xtoon',\n",
       " 'Xtoon',\n",
       " 'Red Tape',\n",
       " 'CAMPUS',\n",
       " 'Deals4you',\n",
       " 'Deals4you',\n",
       " 'DRACKFOOT',\n",
       " 'Red Tape',\n",
       " 'Sparx',\n",
       " 'U.S. POLO ASSN.',\n",
       " 'VENDOZ',\n",
       " 'Xtoon',\n",
       " 'Adeboy',\n",
       " 'Abros',\n",
       " 'Deals4you',\n",
       " 'BIRDE',\n",
       " 'Skechers',\n",
       " 'Sparx',\n",
       " 'Pathar',\n",
       " 'PUMA',\n",
       " 'Shozie',\n",
       " 'ATOM',\n",
       " 'asian',\n",
       " 'CAMPUS',\n",
       " 'Shozie',\n",
       " 'Shozie',\n",
       " 'AMFEET',\n",
       " 'U.S. POLO ASSN.',\n",
       " 'FILA',\n",
       " 'bacca bucci',\n",
       " 'Shozie',\n",
       " 'believe',\n",
       " 'AMFEET',\n",
       " 'PUMA',\n",
       " 'Aeonik',\n",
       " 'Aeonik',\n",
       " 'PUMA',\n",
       " 'PUMA',\n",
       " 'HOTSTYLE',\n",
       " 'corsac',\n",
       " 'PUMA',\n",
       " 'asian',\n",
       " 'HERE&NOW',\n",
       " 'Red Tape',\n",
       " 'tigonis',\n",
       " 'Aeonik',\n",
       " 'CAMPUS',\n",
       " 'PUMA',\n",
       " 'Roadster',\n",
       " 'PUMA',\n",
       " \"K' Footlance\",\n",
       " \"K' Footlance\",\n",
       " 'Red Tape',\n",
       " 'Roadster']"
      ]
     },
     "execution_count": 81,
     "metadata": {},
     "output_type": "execute_result"
    }
   ],
   "source": [
    "Brands"
   ]
  },
  {
   "cell_type": "code",
   "execution_count": 82,
   "id": "a81d7bc7",
   "metadata": {
    "scrolled": true
   },
   "outputs": [
    {
     "data": {
      "text/plain": [
       "['OGIY RETRO SHOES HIGH PREMIUM QUALITY Sneakers For Men',\n",
       " 'OGIY RETRO SHOES HIGH PREMIUM QUALITY Sneakers For Men',\n",
       " 'Rungryp Sneakers For Men',\n",
       " 'CR-1 Sneakers For Men',\n",
       " 'BLACK SHOES PREMIUM QUALITY MEN Sneakers Casuals (Black...',\n",
       " \"Men's Latest Casual Slip-on Sneaker Shoes Sneakers For ...\",\n",
       " 'Sneakers For Men',\n",
       " 'OG-D3 Sneakers For Men',\n",
       " 'OGIY RETRO SHOES HIGH PREMIUM QUALITY Sneakers For Men',\n",
       " 'Sneakers For Men',\n",
       " 'Casual Sneakers For Men',\n",
       " 'Fashion and Stylish Soft Ultralight Lace Up Sneakers Ca...',\n",
       " \"Xtoon comfortable casual shoes for men's Sneakers For M...\",\n",
       " 'Sneakers For Men',\n",
       " 'Lightweight,Comfort,Summer,Trendy,Walking,Outdoor,Styli...',\n",
       " 'OG-D2 Sneakers For Men',\n",
       " 'Puma Rungryp Sneakers For Men',\n",
       " 'Casual Colour Blocked Sneakers For Men',\n",
       " 'Buzz Sneakers For Men',\n",
       " 'JOOTIYAPA PREMIUM TRENDY SPORTS SHOES FOR MEN Sneakers ...',\n",
       " 'Sneakers For Men',\n",
       " 'casual synthetic leather shoe for mens Sneakers For Men',\n",
       " 'Casual Sneaker Shoes for Men | Shock Absorbant, Slip Re...',\n",
       " 'Sneakers For Women',\n",
       " 'SL 111 | Stylish, Comfortable | Sneakers For Women',\n",
       " 'Lightweight,Comfort,Summer,Trendy,Walking,Outdoor,Styli...',\n",
       " \"Men's Stylish and Comfortable Slip-Ons Sneakers For Men\",\n",
       " 'Sneakers For Women',\n",
       " 'Trendy Comfortable Shoe Sneakers For Men',\n",
       " 'SM 734 | Stylish, Comfortable | Sneakers For Men',\n",
       " 'Sneakers For Men',\n",
       " 'Women Sneakers Casual Shoes Sneakers For Women',\n",
       " 'Stylish Sneakers Shoes for Women And Girls Sneakers For...',\n",
       " 'Sneakers For Men',\n",
       " 'Sneakers For Men',\n",
       " \"Men's Ultraforce Mid-top Athletic-Inspired Retro Fashio...\",\n",
       " 'Sneakers for men(black_8) Sneakers For Men',\n",
       " 'Sneakers For Men',\n",
       " 'OGIY RETRO SHOES HIGH PREMIUM QUALITY Sneakers For Men',\n",
       " 'OGIY RETRO SHOES HIGH PREMIUM QUALITY Sneakers For Men',\n",
       " 'Rungryp Sneakers For Men',\n",
       " 'CR-1 Sneakers For Men',\n",
       " 'BLACK SHOES PREMIUM QUALITY MEN Sneakers Casuals (Black...',\n",
       " \"Men's Latest Casual Slip-on Sneaker Shoes Sneakers For ...\",\n",
       " 'OGIY RETRO SHOES HIGH PREMIUM QUALITY Sneakers For Men',\n",
       " 'OG-D3 Sneakers For Men',\n",
       " 'Sneakers For Men',\n",
       " 'Fashion and Stylish Soft Ultralight Lace Up Sneakers Ca...',\n",
       " 'Casual Sneakers For Men',\n",
       " \"Xtoon comfortable casual shoes for men's Sneakers For M...\",\n",
       " 'Sneakers For Men',\n",
       " 'Sneakers For Men',\n",
       " 'Lightweight,Comfort,Summer,Trendy,Walking,Outdoor,Styli...',\n",
       " 'OG-D2 Sneakers For Men',\n",
       " 'Puma Rungryp Sneakers For Men',\n",
       " 'Casual Colour Blocked Sneakers For Men']"
      ]
     },
     "execution_count": 82,
     "metadata": {},
     "output_type": "execute_result"
    }
   ],
   "source": [
    "Products_description"
   ]
  },
  {
   "cell_type": "code",
   "execution_count": 83,
   "id": "13b6f79f",
   "metadata": {},
   "outputs": [
    {
     "data": {
      "text/plain": [
       "['₹547',\n",
       " '₹536',\n",
       " '₹1,880',\n",
       " '₹2,350',\n",
       " '₹354',\n",
       " '₹690',\n",
       " '₹1,299',\n",
       " '₹825',\n",
       " '₹1,169',\n",
       " '₹1,349',\n",
       " '₹718',\n",
       " '₹499',\n",
       " '₹625',\n",
       " '₹2,210',\n",
       " '₹1,110',\n",
       " '₹2,115',\n",
       " '₹544',\n",
       " '₹399',\n",
       " '₹1,349',\n",
       " '₹1,403',\n",
       " '₹449',\n",
       " '₹499',\n",
       " '₹736',\n",
       " '₹1,474',\n",
       " '₹651',\n",
       " '₹1,299',\n",
       " '₹449',\n",
       " '₹499',\n",
       " '₹1,814',\n",
       " '₹1,515',\n",
       " '₹442',\n",
       " '₹1,349',\n",
       " '₹1,299',\n",
       " '₹737',\n",
       " '₹849',\n",
       " '₹980',\n",
       " '₹2,350',\n",
       " '₹737',\n",
       " '₹899',\n",
       " '₹625',\n",
       " '₹499',\n",
       " '₹699',\n",
       " '₹619',\n",
       " '₹1,299',\n",
       " '₹449',\n",
       " '₹825',\n",
       " '₹387',\n",
       " '₹533',\n",
       " '₹895',\n",
       " '₹657',\n",
       " '₹449',\n",
       " '₹449',\n",
       " '₹399',\n",
       " '₹927',\n",
       " '₹269',\n",
       " '₹1,409',\n",
       " '₹639',\n",
       " '₹505',\n",
       " '₹999',\n",
       " '₹764',\n",
       " '₹489',\n",
       " '₹449',\n",
       " '₹2,474',\n",
       " '₹721',\n",
       " '₹576',\n",
       " '₹2,820',\n",
       " '₹649',\n",
       " '₹1,775',\n",
       " '₹825',\n",
       " '₹668',\n",
       " '₹649',\n",
       " '₹699',\n",
       " '₹699',\n",
       " '₹1,409',\n",
       " '₹775',\n",
       " '₹1,199',\n",
       " '₹699',\n",
       " '₹569',\n",
       " '₹699',\n",
       " '₹1,299',\n",
       " '₹547',\n",
       " '₹536',\n",
       " '₹1,880',\n",
       " '₹2,350',\n",
       " '₹354',\n",
       " '₹690',\n",
       " '₹1,299',\n",
       " '₹825',\n",
       " '₹1,169',\n",
       " '₹1,349',\n",
       " '₹718',\n",
       " '₹544',\n",
       " '₹625',\n",
       " '₹2,210',\n",
       " '₹1,110',\n",
       " '₹2,115',\n",
       " '₹399',\n",
       " '₹449',\n",
       " '₹1,349',\n",
       " '₹1,403']"
      ]
     },
     "execution_count": 83,
     "metadata": {},
     "output_type": "execute_result"
    }
   ],
   "source": [
    "Prices"
   ]
  },
  {
   "cell_type": "markdown",
   "id": "a78c4b56",
   "metadata": {},
   "source": [
    "## Q5: Scrape the details of laptop from amazon."
   ]
  },
  {
   "cell_type": "code",
   "execution_count": 84,
   "id": "0b8f6ee8",
   "metadata": {},
   "outputs": [
    {
     "name": "stdout",
     "output_type": "stream",
     "text": [
      "Requirement already satisfied: selenium in /Users/pratikajain/anaconda3/lib/python3.10/site-packages (4.17.2)\r\n",
      "Requirement already satisfied: typing_extensions>=4.9.0 in /Users/pratikajain/anaconda3/lib/python3.10/site-packages (from selenium) (4.9.0)\r\n",
      "Requirement already satisfied: urllib3[socks]<3,>=1.26 in /Users/pratikajain/anaconda3/lib/python3.10/site-packages (from selenium) (1.26.14)\r\n",
      "Requirement already satisfied: trio-websocket~=0.9 in /Users/pratikajain/anaconda3/lib/python3.10/site-packages (from selenium) (0.11.1)\r\n",
      "Requirement already satisfied: trio~=0.17 in /Users/pratikajain/anaconda3/lib/python3.10/site-packages (from selenium) (0.24.0)\r\n",
      "Requirement already satisfied: certifi>=2021.10.8 in /Users/pratikajain/anaconda3/lib/python3.10/site-packages (from selenium) (2022.12.7)\r\n",
      "Requirement already satisfied: sniffio>=1.3.0 in /Users/pratikajain/anaconda3/lib/python3.10/site-packages (from trio~=0.17->selenium) (1.3.0)\r\n",
      "Requirement already satisfied: idna in /Users/pratikajain/anaconda3/lib/python3.10/site-packages (from trio~=0.17->selenium) (3.4)\r\n",
      "Requirement already satisfied: sortedcontainers in /Users/pratikajain/anaconda3/lib/python3.10/site-packages (from trio~=0.17->selenium) (2.4.0)\r\n",
      "Requirement already satisfied: outcome in /Users/pratikajain/anaconda3/lib/python3.10/site-packages (from trio~=0.17->selenium) (1.3.0.post0)\r\n",
      "Requirement already satisfied: exceptiongroup in /Users/pratikajain/anaconda3/lib/python3.10/site-packages (from trio~=0.17->selenium) (1.2.0)\r\n",
      "Requirement already satisfied: attrs>=20.1.0 in /Users/pratikajain/anaconda3/lib/python3.10/site-packages (from trio~=0.17->selenium) (22.1.0)\r\n",
      "Requirement already satisfied: wsproto>=0.14 in /Users/pratikajain/anaconda3/lib/python3.10/site-packages (from trio-websocket~=0.9->selenium) (1.2.0)\r\n",
      "Requirement already satisfied: PySocks!=1.5.7,<2.0,>=1.5.6 in /Users/pratikajain/anaconda3/lib/python3.10/site-packages (from urllib3[socks]<3,>=1.26->selenium) (1.7.1)\r\n",
      "Requirement already satisfied: h11<1,>=0.9.0 in /Users/pratikajain/anaconda3/lib/python3.10/site-packages (from wsproto>=0.14->trio-websocket~=0.9->selenium) (0.14.0)\r\n"
     ]
    }
   ],
   "source": [
    "!pip install selenium\n",
    "import selenium\n",
    "import pandas as pd\n",
    "from selenium import webdriver\n",
    "import warnings\n",
    "warnings.filterwarnings('ignore')\n",
    "from selenium.webdriver.common.by import By\n",
    "import time"
   ]
  },
  {
   "cell_type": "code",
   "execution_count": 85,
   "id": "5a82f2a2",
   "metadata": {},
   "outputs": [],
   "source": [
    "driver = webdriver.Chrome()"
   ]
  },
  {
   "cell_type": "code",
   "execution_count": 86,
   "id": "0aae7d81",
   "metadata": {},
   "outputs": [],
   "source": [
    "driver.get(\"https://www.amazon.in\")"
   ]
  },
  {
   "cell_type": "code",
   "execution_count": 87,
   "id": "f5ad2c5a",
   "metadata": {},
   "outputs": [],
   "source": [
    "Product = driver.find_element(By.XPATH,'/html/body/div[1]/header/div/div[1]/div[2]/div/form/div[2]/div[1]/input')\n",
    "Product.send_keys('Laptop')"
   ]
  },
  {
   "cell_type": "code",
   "execution_count": 88,
   "id": "d75d0a62",
   "metadata": {},
   "outputs": [],
   "source": [
    "search= driver.find_element(By.XPATH,'/html/body/div[1]/header/div/div[1]/div[2]/div/form/div[3]/div/span/input')\n",
    "search.click()"
   ]
  },
  {
   "cell_type": "code",
   "execution_count": 90,
   "id": "aa027b47",
   "metadata": {},
   "outputs": [],
   "source": [
    "CPU_filter=driver.find_element(By.XPATH,'/html/body/div[1]/div[1]/div[1]/div[2]/div/div[3]/span/div[1]/span/div/div/div[6]/ul[2]/span/span[8]/li/span/a/div/label/i')\n",
    "CPU_filter.click()"
   ]
  },
  {
   "cell_type": "code",
   "execution_count": 91,
   "id": "821bc9e2",
   "metadata": {},
   "outputs": [],
   "source": [
    "Titles=[]\n",
    "Ratings=[]\n",
    "Prices=[]"
   ]
  },
  {
   "cell_type": "code",
   "execution_count": 92,
   "id": "17d09f08",
   "metadata": {},
   "outputs": [],
   "source": [
    "title_tag=driver.find_elements(By.XPATH,'//span[@class=\"a-size-medium a-color-base a-text-normal\"]')\n",
    "for i in title_tag:\n",
    "    title=i.text\n",
    "    Titles.append(title)\n",
    "\n",
    "rating_tag=driver.find_elements(By.XPATH,'//i[@class=\"a-icon a-icon-star-small a-star-small-4 aok-align-bottom\"]')\n",
    "for i in rating_tag:\n",
    "    rating=i.text\n",
    "    Ratings.append(rating)\n",
    "                            \n",
    "prices_tag=driver.find_elements(By.XPATH,'//span[@class=\"a-price-whole\"]')\n",
    "for i in prices_tag:\n",
    "    price=i.text\n",
    "    Prices.append(price)"
   ]
  },
  {
   "cell_type": "code",
   "execution_count": 93,
   "id": "1d8a58bf",
   "metadata": {},
   "outputs": [
    {
     "name": "stdout",
     "output_type": "stream",
     "text": [
      "25 12 25\n"
     ]
    }
   ],
   "source": [
    "print(len(Titles),len(Ratings),len(Prices))"
   ]
  },
  {
   "cell_type": "code",
   "execution_count": 94,
   "id": "26d19d21",
   "metadata": {},
   "outputs": [],
   "source": [
    "Titles=Titles[:10]\n",
    "Ratings=Ratings[:10]\n",
    "Prices=Prices[:10]"
   ]
  },
  {
   "cell_type": "code",
   "execution_count": 95,
   "id": "36e56a5c",
   "metadata": {},
   "outputs": [
    {
     "data": {
      "text/html": [
       "<div>\n",
       "<style scoped>\n",
       "    .dataframe tbody tr th:only-of-type {\n",
       "        vertical-align: middle;\n",
       "    }\n",
       "\n",
       "    .dataframe tbody tr th {\n",
       "        vertical-align: top;\n",
       "    }\n",
       "\n",
       "    .dataframe thead th {\n",
       "        text-align: right;\n",
       "    }\n",
       "</style>\n",
       "<table border=\"1\" class=\"dataframe\">\n",
       "  <thead>\n",
       "    <tr style=\"text-align: right;\">\n",
       "      <th></th>\n",
       "      <th>Titles</th>\n",
       "      <th>Ratings</th>\n",
       "      <th>Prices</th>\n",
       "    </tr>\n",
       "  </thead>\n",
       "  <tbody>\n",
       "    <tr>\n",
       "      <th>0</th>\n",
       "      <td>HP Pavilion 14 12th Gen Intel Core i7 16GB SDR...</td>\n",
       "      <td></td>\n",
       "      <td>76,990</td>\n",
       "    </tr>\n",
       "    <tr>\n",
       "      <th>1</th>\n",
       "      <td>Acer Aspire Lite 12th Gen Intel Core i7-1255U ...</td>\n",
       "      <td></td>\n",
       "      <td>52,990</td>\n",
       "    </tr>\n",
       "    <tr>\n",
       "      <th>2</th>\n",
       "      <td>HP Laptop 15s, 12th Gen Intel Core i7-1255U, 1...</td>\n",
       "      <td></td>\n",
       "      <td>65,990</td>\n",
       "    </tr>\n",
       "    <tr>\n",
       "      <th>3</th>\n",
       "      <td>Probus Dual Tone Laptop Slim Sleeve Bag for 13...</td>\n",
       "      <td></td>\n",
       "      <td>1,399</td>\n",
       "    </tr>\n",
       "    <tr>\n",
       "      <th>4</th>\n",
       "      <td>ASUS Vivobook 15, 15.6\" (39.62cm) FHD, Intel C...</td>\n",
       "      <td></td>\n",
       "      <td>64,990</td>\n",
       "    </tr>\n",
       "    <tr>\n",
       "      <th>5</th>\n",
       "      <td>Acer Travelmate Business Laptop Intel Core i7-...</td>\n",
       "      <td></td>\n",
       "      <td>44,990</td>\n",
       "    </tr>\n",
       "    <tr>\n",
       "      <th>6</th>\n",
       "      <td>Dell [Smartchoice] Inspiron 5430 Thin &amp; Light ...</td>\n",
       "      <td></td>\n",
       "      <td>80,990</td>\n",
       "    </tr>\n",
       "    <tr>\n",
       "      <th>7</th>\n",
       "      <td>Dell Inspiron 3530 Laptop, 13th Generation Int...</td>\n",
       "      <td></td>\n",
       "      <td>69,919</td>\n",
       "    </tr>\n",
       "    <tr>\n",
       "      <th>8</th>\n",
       "      <td>MSI Thin 15, Intel 13th Gen. Core i7-13620H, 4...</td>\n",
       "      <td></td>\n",
       "      <td>74,990</td>\n",
       "    </tr>\n",
       "    <tr>\n",
       "      <th>9</th>\n",
       "      <td>Lenovo IdeaPad Slim 3 Intel Core i7 12th Gen 1...</td>\n",
       "      <td></td>\n",
       "      <td>59,990</td>\n",
       "    </tr>\n",
       "  </tbody>\n",
       "</table>\n",
       "</div>"
      ],
      "text/plain": [
       "                                              Titles Ratings  Prices\n",
       "0  HP Pavilion 14 12th Gen Intel Core i7 16GB SDR...          76,990\n",
       "1  Acer Aspire Lite 12th Gen Intel Core i7-1255U ...          52,990\n",
       "2  HP Laptop 15s, 12th Gen Intel Core i7-1255U, 1...          65,990\n",
       "3  Probus Dual Tone Laptop Slim Sleeve Bag for 13...           1,399\n",
       "4  ASUS Vivobook 15, 15.6\" (39.62cm) FHD, Intel C...          64,990\n",
       "5  Acer Travelmate Business Laptop Intel Core i7-...          44,990\n",
       "6  Dell [Smartchoice] Inspiron 5430 Thin & Light ...          80,990\n",
       "7  Dell Inspiron 3530 Laptop, 13th Generation Int...          69,919\n",
       "8  MSI Thin 15, Intel 13th Gen. Core i7-13620H, 4...          74,990\n",
       "9  Lenovo IdeaPad Slim 3 Intel Core i7 12th Gen 1...          59,990"
      ]
     },
     "execution_count": 95,
     "metadata": {},
     "output_type": "execute_result"
    }
   ],
   "source": [
    "df = pd.DataFrame({\"Titles\":Titles,\"Ratings\":Ratings,\"Prices\":Prices})\n",
    "df"
   ]
  },
  {
   "cell_type": "markdown",
   "id": "1eeb4833",
   "metadata": {},
   "source": [
    "## Q6: Write a python program to scrape data for Top 1000 Quotes of All Time"
   ]
  },
  {
   "cell_type": "code",
   "execution_count": 96,
   "id": "699c35a7",
   "metadata": {},
   "outputs": [
    {
     "name": "stdout",
     "output_type": "stream",
     "text": [
      "Requirement already satisfied: selenium in /Users/pratikajain/anaconda3/lib/python3.10/site-packages (4.17.2)\r\n",
      "Requirement already satisfied: trio-websocket~=0.9 in /Users/pratikajain/anaconda3/lib/python3.10/site-packages (from selenium) (0.11.1)\r\n",
      "Requirement already satisfied: certifi>=2021.10.8 in /Users/pratikajain/anaconda3/lib/python3.10/site-packages (from selenium) (2022.12.7)\r\n",
      "Requirement already satisfied: urllib3[socks]<3,>=1.26 in /Users/pratikajain/anaconda3/lib/python3.10/site-packages (from selenium) (1.26.14)\r\n",
      "Requirement already satisfied: typing_extensions>=4.9.0 in /Users/pratikajain/anaconda3/lib/python3.10/site-packages (from selenium) (4.9.0)\r\n",
      "Requirement already satisfied: trio~=0.17 in /Users/pratikajain/anaconda3/lib/python3.10/site-packages (from selenium) (0.24.0)\r\n",
      "Requirement already satisfied: exceptiongroup in /Users/pratikajain/anaconda3/lib/python3.10/site-packages (from trio~=0.17->selenium) (1.2.0)\r\n",
      "Requirement already satisfied: idna in /Users/pratikajain/anaconda3/lib/python3.10/site-packages (from trio~=0.17->selenium) (3.4)\r\n",
      "Requirement already satisfied: sortedcontainers in /Users/pratikajain/anaconda3/lib/python3.10/site-packages (from trio~=0.17->selenium) (2.4.0)\r\n",
      "Requirement already satisfied: attrs>=20.1.0 in /Users/pratikajain/anaconda3/lib/python3.10/site-packages (from trio~=0.17->selenium) (22.1.0)\r\n",
      "Requirement already satisfied: outcome in /Users/pratikajain/anaconda3/lib/python3.10/site-packages (from trio~=0.17->selenium) (1.3.0.post0)\r\n",
      "Requirement already satisfied: sniffio>=1.3.0 in /Users/pratikajain/anaconda3/lib/python3.10/site-packages (from trio~=0.17->selenium) (1.3.0)\r\n",
      "Requirement already satisfied: wsproto>=0.14 in /Users/pratikajain/anaconda3/lib/python3.10/site-packages (from trio-websocket~=0.9->selenium) (1.2.0)\r\n",
      "Requirement already satisfied: PySocks!=1.5.7,<2.0,>=1.5.6 in /Users/pratikajain/anaconda3/lib/python3.10/site-packages (from urllib3[socks]<3,>=1.26->selenium) (1.7.1)\r\n",
      "Requirement already satisfied: h11<1,>=0.9.0 in /Users/pratikajain/anaconda3/lib/python3.10/site-packages (from wsproto>=0.14->trio-websocket~=0.9->selenium) (0.14.0)\r\n"
     ]
    }
   ],
   "source": [
    "!pip install selenium\n",
    "import selenium\n",
    "import pandas as pd\n",
    "from selenium import webdriver\n",
    "import warnings\n",
    "warnings.filterwarnings('ignore')\n",
    "from selenium.webdriver.common.by import By\n",
    "import time"
   ]
  },
  {
   "cell_type": "code",
   "execution_count": 97,
   "id": "663b730d",
   "metadata": {},
   "outputs": [],
   "source": [
    "driver = webdriver.Chrome()"
   ]
  },
  {
   "cell_type": "code",
   "execution_count": 98,
   "id": "b607e9e8",
   "metadata": {},
   "outputs": [],
   "source": [
    "driver.get(\"https://www.azquotes.com/\")"
   ]
  },
  {
   "cell_type": "code",
   "execution_count": 99,
   "id": "cc7cb369",
   "metadata": {},
   "outputs": [],
   "source": [
    "Top_quotes=driver.find_element(By.XPATH,'/html/body/div[1]/div[1]/div[1]/div/div[3]/ul/li[5]/a')\n",
    "Top_quotes.click()"
   ]
  },
  {
   "cell_type": "code",
   "execution_count": 100,
   "id": "05ebab79",
   "metadata": {},
   "outputs": [],
   "source": [
    "Quotes=[]\n",
    "Authors=[]\n",
    "Types=[]"
   ]
  },
  {
   "cell_type": "code",
   "execution_count": 101,
   "id": "4f8bd94a",
   "metadata": {},
   "outputs": [],
   "source": [
    "quote_tag=driver.find_elements(By.XPATH,'//a[@class=\"title\"]')\n",
    "for i in quote_tag:\n",
    "    quote=i.text\n",
    "    Quotes.append(quote)\n",
    "\n",
    "author_tag=driver.find_elements(By.XPATH,'//div[@class=\"author\"]//a')\n",
    "for i in author_tag:\n",
    "    author=i.text\n",
    "    Authors.append(author)\n",
    "                            \n",
    "types_tag=driver.find_elements(By.XPATH,'//div[@class=\"tags\"]')\n",
    "for i in types_tag:\n",
    "    types=i.text\n",
    "    Types.append(types)"
   ]
  },
  {
   "cell_type": "code",
   "execution_count": 102,
   "id": "a6a5fd21",
   "metadata": {},
   "outputs": [
    {
     "name": "stdout",
     "output_type": "stream",
     "text": [
      "100 100 100\n"
     ]
    }
   ],
   "source": [
    "print(len(Quotes),len(Authors),len(Types))"
   ]
  },
  {
   "cell_type": "code",
   "execution_count": 103,
   "id": "fe5baffe",
   "metadata": {},
   "outputs": [
    {
     "data": {
      "text/html": [
       "<div>\n",
       "<style scoped>\n",
       "    .dataframe tbody tr th:only-of-type {\n",
       "        vertical-align: middle;\n",
       "    }\n",
       "\n",
       "    .dataframe tbody tr th {\n",
       "        vertical-align: top;\n",
       "    }\n",
       "\n",
       "    .dataframe thead th {\n",
       "        text-align: right;\n",
       "    }\n",
       "</style>\n",
       "<table border=\"1\" class=\"dataframe\">\n",
       "  <thead>\n",
       "    <tr style=\"text-align: right;\">\n",
       "      <th></th>\n",
       "      <th>Quotes</th>\n",
       "      <th>Authors</th>\n",
       "      <th>Type of Quote</th>\n",
       "    </tr>\n",
       "  </thead>\n",
       "  <tbody>\n",
       "    <tr>\n",
       "      <th>0</th>\n",
       "      <td>The essence of strategy is choosing what not t...</td>\n",
       "      <td>Michael Porter</td>\n",
       "      <td>Essence, Deep Thought, Transcendentalism</td>\n",
       "    </tr>\n",
       "    <tr>\n",
       "      <th>1</th>\n",
       "      <td>One cannot and must not try to erase the past ...</td>\n",
       "      <td>Golda Meir</td>\n",
       "      <td>Inspiration, Past, Trying</td>\n",
       "    </tr>\n",
       "    <tr>\n",
       "      <th>2</th>\n",
       "      <td>Patriotism means to stand by the country. It d...</td>\n",
       "      <td>Theodore Roosevelt</td>\n",
       "      <td>Country, Peace, War</td>\n",
       "    </tr>\n",
       "    <tr>\n",
       "      <th>3</th>\n",
       "      <td>Death is something inevitable. When a man has ...</td>\n",
       "      <td>Nelson Mandela</td>\n",
       "      <td>Inspirational, Motivational, Death</td>\n",
       "    </tr>\n",
       "    <tr>\n",
       "      <th>4</th>\n",
       "      <td>You have to love a nation that celebrates its ...</td>\n",
       "      <td>Erma Bombeck</td>\n",
       "      <td>4th Of July, Food, Patriotic</td>\n",
       "    </tr>\n",
       "    <tr>\n",
       "      <th>...</th>\n",
       "      <td>...</td>\n",
       "      <td>...</td>\n",
       "      <td>...</td>\n",
       "    </tr>\n",
       "    <tr>\n",
       "      <th>95</th>\n",
       "      <td>When the going gets weird, the weird turn pro.</td>\n",
       "      <td>Hunter S. Thompson</td>\n",
       "      <td>Music, Sports, Hunting</td>\n",
       "    </tr>\n",
       "    <tr>\n",
       "      <th>96</th>\n",
       "      <td>When a train goes through a tunnel and it gets...</td>\n",
       "      <td>Corrie Ten Boom</td>\n",
       "      <td>Trust, Encouraging, Uplifting</td>\n",
       "    </tr>\n",
       "    <tr>\n",
       "      <th>97</th>\n",
       "      <td>If you think you are too small to make a diffe...</td>\n",
       "      <td>Dalai Lama</td>\n",
       "      <td>Inspirational, Funny, Change</td>\n",
       "    </tr>\n",
       "    <tr>\n",
       "      <th>98</th>\n",
       "      <td>God doesn't require us to succeed, he only req...</td>\n",
       "      <td>Mother Teresa</td>\n",
       "      <td>Success, God, Mother</td>\n",
       "    </tr>\n",
       "    <tr>\n",
       "      <th>99</th>\n",
       "      <td>Change your thoughts and you change your world.</td>\n",
       "      <td>Norman Vincent Peale</td>\n",
       "      <td>Inspirational, Motivational, Change</td>\n",
       "    </tr>\n",
       "  </tbody>\n",
       "</table>\n",
       "<p>100 rows × 3 columns</p>\n",
       "</div>"
      ],
      "text/plain": [
       "                                               Quotes               Authors  \\\n",
       "0   The essence of strategy is choosing what not t...        Michael Porter   \n",
       "1   One cannot and must not try to erase the past ...            Golda Meir   \n",
       "2   Patriotism means to stand by the country. It d...    Theodore Roosevelt   \n",
       "3   Death is something inevitable. When a man has ...        Nelson Mandela   \n",
       "4   You have to love a nation that celebrates its ...          Erma Bombeck   \n",
       "..                                                ...                   ...   \n",
       "95     When the going gets weird, the weird turn pro.    Hunter S. Thompson   \n",
       "96  When a train goes through a tunnel and it gets...       Corrie Ten Boom   \n",
       "97  If you think you are too small to make a diffe...            Dalai Lama   \n",
       "98  God doesn't require us to succeed, he only req...         Mother Teresa   \n",
       "99    Change your thoughts and you change your world.  Norman Vincent Peale   \n",
       "\n",
       "                               Type of Quote  \n",
       "0   Essence, Deep Thought, Transcendentalism  \n",
       "1                  Inspiration, Past, Trying  \n",
       "2                        Country, Peace, War  \n",
       "3         Inspirational, Motivational, Death  \n",
       "4               4th Of July, Food, Patriotic  \n",
       "..                                       ...  \n",
       "95                    Music, Sports, Hunting  \n",
       "96             Trust, Encouraging, Uplifting  \n",
       "97              Inspirational, Funny, Change  \n",
       "98                      Success, God, Mother  \n",
       "99       Inspirational, Motivational, Change  \n",
       "\n",
       "[100 rows x 3 columns]"
      ]
     },
     "execution_count": 103,
     "metadata": {},
     "output_type": "execute_result"
    }
   ],
   "source": [
    "df = pd.DataFrame({\"Quotes\":Quotes,\"Authors\":Authors,\"Type of Quote\":Types})\n",
    "df"
   ]
  }
 ],
 "metadata": {
  "kernelspec": {
   "display_name": "Python 3 (ipykernel)",
   "language": "python",
   "name": "python3"
  },
  "language_info": {
   "codemirror_mode": {
    "name": "ipython",
    "version": 3
   },
   "file_extension": ".py",
   "mimetype": "text/x-python",
   "name": "python",
   "nbconvert_exporter": "python",
   "pygments_lexer": "ipython3",
   "version": "3.10.9"
  }
 },
 "nbformat": 4,
 "nbformat_minor": 5
}
