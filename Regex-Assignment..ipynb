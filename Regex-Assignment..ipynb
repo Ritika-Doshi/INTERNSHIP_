{
 "cells": [
  {
   "cell_type": "markdown",
   "id": "c02e0981",
   "metadata": {},
   "source": [
    "# Regex Assignment\n"
   ]
  },
  {
   "cell_type": "code",
   "execution_count": 95,
   "id": "7f2b4be2",
   "metadata": {},
   "outputs": [
    {
     "name": "stdout",
     "output_type": "stream",
     "text": [
      "Python:Exercise::PHP:exercises:\n"
     ]
    }
   ],
   "source": [
    "# Question 1- Write a Python program to replace all occurrences of a space, comma, or dot with a colon.\n",
    "\n",
    "sample = \"Python Exercise, PHP exercises.\"\n",
    "X= r\"\\W\"\n",
    "x = re.sub(X,r\":\",sample)\n",
    "print(x)"
   ]
  },
  {
   "cell_type": "code",
   "execution_count": 98,
   "id": "22ecd0cc",
   "metadata": {},
   "outputs": [
    {
     "data": {
      "text/html": [
       "<div>\n",
       "<style scoped>\n",
       "    .dataframe tbody tr th:only-of-type {\n",
       "        vertical-align: middle;\n",
       "    }\n",
       "\n",
       "    .dataframe tbody tr th {\n",
       "        vertical-align: top;\n",
       "    }\n",
       "\n",
       "    .dataframe thead th {\n",
       "        text-align: right;\n",
       "    }\n",
       "</style>\n",
       "<table border=\"1\" class=\"dataframe\">\n",
       "  <thead>\n",
       "    <tr style=\"text-align: right;\">\n",
       "      <th></th>\n",
       "      <th>SUMMARY</th>\n",
       "    </tr>\n",
       "  </thead>\n",
       "  <tbody>\n",
       "    <tr>\n",
       "      <th>0</th>\n",
       "      <td>hello, world!</td>\n",
       "    </tr>\n",
       "    <tr>\n",
       "      <th>1</th>\n",
       "      <td>XXXXX test</td>\n",
       "    </tr>\n",
       "    <tr>\n",
       "      <th>2</th>\n",
       "      <td>123four, five:; six...</td>\n",
       "    </tr>\n",
       "  </tbody>\n",
       "</table>\n",
       "</div>"
      ],
      "text/plain": [
       "                  SUMMARY\n",
       "0           hello, world!\n",
       "1              XXXXX test\n",
       "2  123four, five:; six..."
      ]
     },
     "execution_count": 98,
     "metadata": {},
     "output_type": "execute_result"
    }
   ],
   "source": [
    "# Question 2-  Create a dataframe using the dictionary below and remove everything (commas (,), !, XXXX, ;, etc.) from the columns except words.\n",
    "\n",
    "import regex as re\n",
    "import pandas as pd\n",
    "import re\n",
    "dictionary = {'SUMMARY': [' hello, world!','XXXXX test','123four, five:; six...']}\n",
    "dictionary\n",
    "My_dict = pd.DataFrame(dictionary)\n",
    "My_dict"
   ]
  },
  {
   "cell_type": "code",
   "execution_count": 99,
   "id": "ec6df26a",
   "metadata": {},
   "outputs": [
    {
     "name": "stdout",
     "output_type": "stream",
     "text": [
      "['Anal', 'ytic', 'fiel', 'comp', 'uter', 'scie', 'that', 'uses', 'math', 'stat', 'asti', 'mach', 'lear', 'ning', 'find', 'mean', 'ingf', 'patt', 'erns', 'data']\n"
     ]
    }
   ],
   "source": [
    "#Question 3- Create a function in python to find all words that are at least 4 characters long in a string. The use of the re.compile() method is mandatory.\n",
    "\n",
    "str_pattern= r\"\\w{4}\"\n",
    "code = re.compile(str_pattern)\n",
    "str1 = \"Analytics is a field in computer science that uses math , statastics and machine learning to find meaningful patterns in data.\"\n",
    "\n",
    "result = code.findall(str1)\n",
    "print(result)"
   ]
  },
  {
   "cell_type": "code",
   "execution_count": 102,
   "id": "47b10806",
   "metadata": {},
   "outputs": [
    {
     "name": "stdout",
     "output_type": "stream",
     "text": [
      "['Analy', 'tics', 'field', 'compu', 'ter', 'scien', 'that', 'uses', 'math', 'stata', 'stics', 'and', 'machi', 'learn', 'ing', 'find', 'meani', 'ngful', 'patte', 'rns', 'data']\n"
     ]
    }
   ],
   "source": [
    "#Question 4- Create a function in python to find all three, four, and five character words in a string. The use of the re.compile() method is mandatory.\n",
    "\n",
    "str_pattern = r\"\\w{3,5}\"\n",
    "code = re.compile(str_pattern)\n",
    "result = code.findall(str1)\n",
    "print(result)"
   ]
  },
  {
   "cell_type": "code",
   "execution_count": 190,
   "id": "a5ce25c8",
   "metadata": {},
   "outputs": [
    {
     "data": {
      "text/plain": [
       "['example.com',\n",
       " 'hr@fliprobo.com',\n",
       " 'github.com',\n",
       " ' Hello Data Science World',\n",
       " 'Data Scientist']"
      ]
     },
     "execution_count": 190,
     "metadata": {},
     "output_type": "execute_result"
    }
   ],
   "source": [
    "#Question 5- Create a function in Python to remove the parenthesis in a list of strings. The use of the re.compile() method is mandatory.\n",
    "\n",
    "import re\n",
    "\n",
    "def paranthesis(strings):\n",
    "    pattern = re.compile(\"[()]\")\n",
    "    replaced_strings =[]\n",
    "    \n",
    "    for string in strings:\n",
    "        replaced_string = re.sub(pattern,\"\",string)\n",
    "        replaced_strings.append(replaced_string)\n",
    "    return(replaced_strings)\n",
    "\n",
    "strings = [\"example(.com)\",\"hr@fliprobo(.com)\",\"github(.com)\",\" Hello (Data Science World)\",\"Data (Scientist)\"]\n",
    "\n",
    "result = paranthesis(strings)\n",
    "result"
   ]
  },
  {
   "cell_type": "code",
   "execution_count": 195,
   "id": "56a78171",
   "metadata": {},
   "outputs": [
    {
     "data": {
      "text/plain": [
       "['example', 'hr@fliprobo', 'github', ' Hello ', 'Data ']"
      ]
     },
     "execution_count": 195,
     "metadata": {},
     "output_type": "execute_result"
    }
   ],
   "source": [
    "#Question 6- Write a python program to remove the parenthesis area from the text stored in the text file using Regular Expression.\n",
    "\n",
    "import re\n",
    "\n",
    "def rem_par(strings):\n",
    "    replaced_strings = []\n",
    "    for val in strings:\n",
    "        replaced_string = re.sub(r\"\\(.*?\\)\",\"\",val)\n",
    "        replaced_strings.append(replaced_string)\n",
    "    return(replaced_strings)\n",
    "strings = [\"example(.com)\",\"hr@fliprobo(.com)\",\"github(.com)\",\" Hello (Data Science World)\",\"Data (Scientist)\"]\n",
    "output = rem_par(strings)\n",
    "output\n"
   ]
  },
  {
   "cell_type": "code",
   "execution_count": 118,
   "id": "b45ec1d0",
   "metadata": {},
   "outputs": [
    {
     "name": "stdout",
     "output_type": "stream",
     "text": [
      "example\n",
      "hr@fliprobo\n",
      "github\n",
      " Hello \n",
      " Data \n"
     ]
    }
   ],
   "source": [
    "# in a text file way\n",
    "\n",
    "with open('sample.txt','w') as txt:\n",
    "    txt.write(\"example(.com)\")\n",
    "    txt.write(\"\\n\")\n",
    "    txt.write(\"hr@fliprobo(.com)\")\n",
    "    txt.write(\"\\n\")\n",
    "    txt.write(\"github(.com)\")\n",
    "    txt.write(\"\\n\")\n",
    "    txt.write(\" Hello (Data Science World)\")\n",
    "    txt.write(\"\\n\")\n",
    "    txt.write(\" Data (Scientist)\")\n",
    "    \n",
    "    txt.close()\n",
    "with open('sample.txt','r')as txt:\n",
    "    text = txt.read()\n",
    "replaced_text = re.sub(r\"\\(.*?\\)\",\"\",text)\n",
    "with open('sample_txt','w') as txt:\n",
    "    txt.write(replaced_text)\n",
    "txt = open('sample_txt','r')\n",
    "print(txt.read())"
   ]
  },
  {
   "cell_type": "code",
   "execution_count": 191,
   "id": "be1b59e9",
   "metadata": {},
   "outputs": [
    {
     "data": {
      "text/plain": [
       "['Importance', 'Of', 'Regular', 'Expression', 'In', 'Python']"
      ]
     },
     "execution_count": 191,
     "metadata": {},
     "output_type": "execute_result"
    }
   ],
   "source": [
    "#Question 7- Write a regular expression in Python to split a string into uppercase letters.\n",
    "\n",
    "import re\n",
    "Sample_text = \"ImportanceOfRegularExpressionInPython\"\n",
    "output = re.findall(r'([A-Z][^A-Z]*)', Sample_text)\n",
    "\n",
    "output\n"
   ]
  },
  {
   "cell_type": "code",
   "execution_count": 130,
   "id": "db347085",
   "metadata": {},
   "outputs": [
    {
     "name": "stdout",
     "output_type": "stream",
     "text": [
      "RegularExpression 1IsAn 2ImportantTopic 3InPython\n"
     ]
    }
   ],
   "source": [
    "# Question 8- Create a function in python to insert spaces between words starting with numbers.\n",
    "import re\n",
    "Sample_text = \"RegularExpression1IsAn2ImportantTopic3InPython\"\n",
    "x= re.sub(r'(?<=\\D)(\\d)', r' \\1', Sample_text)\n",
    "print(x)"
   ]
  },
  {
   "cell_type": "code",
   "execution_count": 131,
   "id": "6f1ed559",
   "metadata": {},
   "outputs": [
    {
     "name": "stdout",
     "output_type": "stream",
     "text": [
      "Regular Expression 1Is An 2Important Topic 3In Python\n"
     ]
    }
   ],
   "source": [
    "#Question 9- Create a function in python to insert spaces between words starting with capital letters or with numbers.\n",
    "\n",
    "import re\n",
    "Sample_text = \"RegularExpression1IsAn2ImportantTopic3InPython\"\n",
    "output = re.sub(r'(?<=[a-z])(?=[A-Z0-9])', ' ',Sample_text)\n",
    "print(output)"
   ]
  },
  {
   "cell_type": "code",
   "execution_count": 16,
   "id": "ae937708",
   "metadata": {},
   "outputs": [
    {
     "name": "stdout",
     "output_type": "stream",
     "text": [
      "'Regular_Expression34' is a valid string.\n",
      "'Regular-Expression' is not a valid string.\n",
      "'Regular_Expression' is a valid string.\n",
      "'Regula_rExpressi_on1' is a valid string.\n"
     ]
    }
   ],
   "source": [
    "#Question 11- Write a Python program to match a string that contains only upper and lowercase letters, numbers, and underscores.\n",
    "\n",
    "def match(s):\n",
    "    return s.replace('_', '').isalnum()\n",
    "\n",
    "# Test cases\n",
    "strings = [\"Regular_Expression34\", \"Regular-Expression\", \"Regular_Expression\", \"Regula_rExpressi_on1\"]\n",
    "\n",
    "for string in strings:\n",
    "    if match(string):\n",
    "        print(f\"'{string}' is a valid string.\")\n",
    "    else:\n",
    "        print(f\"'{string}' is not a valid string.\")"
   ]
  },
  {
   "cell_type": "code",
   "execution_count": 17,
   "id": "cab577de",
   "metadata": {},
   "outputs": [
    {
     "name": "stdout",
     "output_type": "stream",
     "text": [
      "'123RegularExpression' starts with '123'.\n",
      "'456RegularExpression' does not start with '123'.\n",
      "'123RegularExpression' starts with '123'.\n",
      "'789RegularExpression' does not start with '123'.\n"
     ]
    }
   ],
   "source": [
    "# Question 12- Write a Python program where a string will start with a specific number.\n",
    "\n",
    "\n",
    "strings = [\"123RegularExpression\", \"456RegularExpression\", \"123RegularExpression\", \"789RegularExpression\"]\n",
    "number = \"123\"\n",
    "\n",
    "def match(s, number):\n",
    "    return s.startswith(str(number))\n",
    "\n",
    "for string in strings:\n",
    "    if match(string, number):\n",
    "        print(f\"'{string}' starts with '{number}'.\")\n",
    "    else:\n",
    "        print(f\"'{string}' does not start with '{number}'.\")"
   ]
  },
  {
   "cell_type": "code",
   "execution_count": 25,
   "id": "67459c58",
   "metadata": {},
   "outputs": [
    {
     "name": "stdout",
     "output_type": "stream",
     "text": [
      "Original IP: 145.178.001.001 -> Cleaned IP: 145.178.1.1\n",
      "Original IP: 200.070.000.200 -> Cleaned IP: 200.70.0.200\n",
      "Original IP: 0002.656.004.004 -> Cleaned IP: 2.656.4.4\n",
      "Original IP: 348.008.006.008 -> Cleaned IP: 348.8.6.8\n"
     ]
    }
   ],
   "source": [
    "#Question 13- Write a Python program to remove leading zeros from an IP address\n",
    "\n",
    "def updated_ip(ip_address):\n",
    "    ips = ip_address.split('.')\n",
    "    final_ip = [str(int(ip)) for ip in ips]\n",
    "    final_ip_address = '.'.join(final_ip)\n",
    "    return final_ip_address\n",
    "\n",
    "ip_add = [\"145.178.001.001\", \"200.070.000.200\", \"0002.656.004.004\", \"348.008.006.008\"]\n",
    "\n",
    "for ip in ip_add:\n",
    "    print(f\"Original IP: {ip} -> Cleaned IP: {updated_ip(ip)}\")\n"
   ]
  },
  {
   "cell_type": "code",
   "execution_count": 30,
   "id": "86664420",
   "metadata": {
    "scrolled": false
   },
   "outputs": [
    {
     "name": "stdout",
     "output_type": "stream",
     "text": [
      "['August 15th 1947']\n"
     ]
    }
   ],
   "source": [
    "# Question 14- Write a regular expression in python to match a date string in the form of Month name followed by day number and year stored in a text file.\n",
    "import re\n",
    "\n",
    "sample_text = \"On August 15th 1947 that India was declared independent from British colonialism, and the reins of control were handed over to the leaders of the Country.\"\n",
    "\n",
    "with open(file_path, 'w') as file:\n",
    "    file.write(sample_text)\n",
    "\n",
    "with open(file_path, 'r') as file:\n",
    "    text = file.read()\n",
    "    \n",
    "date_pattern = re.compile(r'\\b(?:January|February|March|April|May|June|July|August|September|October|November|December)\\s+\\d{1,2}(?:st|nd|rd|th)?\\s+\\d{4}\\b')\n",
    "\n",
    "dates= date_pattern.findall(text)\n",
    "print(dates)"
   ]
  },
  {
   "cell_type": "code",
   "execution_count": 188,
   "id": "549e7de9",
   "metadata": {
    "scrolled": true
   },
   "outputs": [
    {
     "name": "stdout",
     "output_type": "stream",
     "text": [
      "'fox' found in the text.\n",
      "'dog' found in the text.\n",
      "'horse' not found in the text.\n"
     ]
    }
   ],
   "source": [
    "#Question 15- Write a Python program to search some literals strings in a string. \n",
    "\n",
    "sample_text = 'The quick brown fox jumps over the lazy dog.'\n",
    "\n",
    "searched_words = ['fox', 'dog', 'horse']\n",
    "\n",
    "def search_words(text, words):\n",
    "    found_words = {word: (word in text) for word in words}\n",
    "    return found_words\n",
    "\n",
    "results = search_words(sample_text, searched_words)\n",
    "\n",
    "for word, found in results.items():\n",
    "    if found:\n",
    "        print(f\"'{word}' found in the text.\")\n",
    "    else:\n",
    "        print(f\"'{word}' not found in the text.\")"
   ]
  },
  {
   "cell_type": "code",
   "execution_count": 40,
   "id": "8bdd27e5",
   "metadata": {},
   "outputs": [
    {
     "name": "stdout",
     "output_type": "stream",
     "text": [
      "'fox' found in the text from position 16 to 19.\n"
     ]
    }
   ],
   "source": [
    "#Question 16- Write a Python program to search a literals string in a string and also find the location within the original string where the pattern occurs\n",
    "\n",
    "import re\n",
    "\n",
    "sample_text = 'The quick brown fox jumps over the lazy dog.'\n",
    "\n",
    "searched_word = 'fox'\n",
    "def search_word(text, word):\n",
    "    locations = []\n",
    "    start = 0\n",
    "    while start < len(text):\n",
    "        pos = text.find(word, start)\n",
    "        if pos == -1:\n",
    "            break\n",
    "        locations.append((pos, pos + len(word)))\n",
    "        start = pos + 1\n",
    "    return locations\n",
    "\n",
    "locations = search_word(sample_text, searched_word)\n",
    "\n",
    "if locations:\n",
    "    for start, end in locations:\n",
    "        print(f\"'{searched_word}' found in the text from position {start} to {end}.\")\n",
    "else:\n",
    "    print(f\"'{searched_word}' not found in the text.\")"
   ]
  },
  {
   "cell_type": "code",
   "execution_count": 194,
   "id": "3007c4b4",
   "metadata": {
    "scrolled": true
   },
   "outputs": [
    {
     "name": "stdout",
     "output_type": "stream",
     "text": [
      "'exercises' found in the text from position 7 to 16.\n",
      "'exercises' found in the text from position 22 to 31.\n",
      "'exercises' found in the text from position 36 to 45.\n"
     ]
    }
   ],
   "source": [
    "#Question 17- Write a Python program to find the substrings within a string.\n",
    "\n",
    "import re\n",
    "\n",
    "sample_text = \"Python exercises, PHP exercises, C# exercises\"\n",
    "\n",
    "searched_word = 'exercises'\n",
    "def search_word(text, word):\n",
    "    locations = []\n",
    "    start = 0\n",
    "    while start < len(text):\n",
    "        pos = text.find(word, start)\n",
    "        if pos == -1:\n",
    "            break\n",
    "        locations.append((pos, pos + len(word)))\n",
    "        start = pos + 1\n",
    "    return locations\n",
    "\n",
    "locations = search_word(sample_text, searched_word)\n",
    "\n",
    "if locations:\n",
    "    for start, end in locations:\n",
    "        print(f\"'{searched_word}' found in the text from position {start} to {end}.\")\n",
    "else:\n",
    "    print(f\"'{searched_word}' not found in the text.\")"
   ]
  },
  {
   "cell_type": "code",
   "execution_count": 184,
   "id": "8618cb06",
   "metadata": {},
   "outputs": [
    {
     "name": "stdout",
     "output_type": "stream",
     "text": [
      "Occurrence 1: 'exercises' found in the text from position 7 to 16.\n",
      "Occurrence 2: 'exercises' found in the text from position 22 to 31.\n",
      "Occurrence 3: 'exercises' found in the text from position 36 to 45.\n"
     ]
    }
   ],
   "source": [
    "#Question 18- Write a Python program to find the occurrence and position of the substrings within a string.\n",
    "\n",
    "import re\n",
    "\n",
    "sample_text = \"Python exercises, PHP exercises, C# exercises\"\n",
    "\n",
    "searched_word = 'exercises'\n",
    "def search_word(text, word):\n",
    "    locations = []\n",
    "    start = 0\n",
    "    while start < len(text):\n",
    "        pos = text.find(word, start)\n",
    "        if pos == -1:\n",
    "            break\n",
    "        locations.append((pos, pos + len(word)))\n",
    "        start = pos + 1\n",
    "    return locations\n",
    "\n",
    "locations = search_word(sample_text, searched_word)\n",
    "    \n",
    "if locations:\n",
    "    for i, (start, end) in enumerate(locations, 1):\n",
    "        print(f\"Occurrence {i}: '{searched_word}' found in the text from position {start} to {end}.\")\n",
    "else:\n",
    "    print(f\"'{searched_word}' not found in the text.\")\n",
    "    "
   ]
  },
  {
   "cell_type": "code",
   "execution_count": 45,
   "id": "20127f55",
   "metadata": {},
   "outputs": [
    {
     "name": "stdout",
     "output_type": "stream",
     "text": [
      "04-07-2023\n"
     ]
    }
   ],
   "source": [
    "# Question 19- Write a Python program to convert a date of yyyy-mm-dd format to dd-mm-yyyy format.\n",
    "\n",
    "from datetime import datetime\n",
    "date = '2023-07-04'\n",
    "dt = datetime.strptime(date, '%Y-%m-%d')\n",
    "dd_mm_yyyy = dt.strftime('%d-%m-%Y')\n",
    "    \n",
    "print(dd_mm_yyyy)\n"
   ]
  },
  {
   "cell_type": "code",
   "execution_count": 193,
   "id": "4fee68b3",
   "metadata": {},
   "outputs": [
    {
     "name": "stdout",
     "output_type": "stream",
     "text": [
      "['01.12', '145.8', '3.01', '27.25', '0.25']\n"
     ]
    }
   ],
   "source": [
    "#Question 20- Create a function in python to find all decimal numbers with a precision of 1 or 2 in a string. The use of the re.compile() method is mandatory.\n",
    "\n",
    "import re\n",
    "\n",
    "sample_text = \"01.12 0132.123 2.31875 145.8 3.01 27.25 0.25\"\n",
    "\n",
    "\n",
    "decimal_numbers = re.compile(r'\\b\\d+\\.\\d{1,2}\\b').findall(sample_text)\n",
    "print(decimal_numbers)"
   ]
  },
  {
   "cell_type": "code",
   "execution_count": 67,
   "id": "70635c45",
   "metadata": {},
   "outputs": [
    {
     "name": "stdout",
     "output_type": "stream",
     "text": [
      "Number '12' found at position 10.\n",
      "Number '3' found at position 24.\n"
     ]
    }
   ],
   "source": [
    "# Question 21- Write a Python program to separate and print the numbers and their position of a given string.\n",
    "\n",
    "import re\n",
    "\n",
    "sample_text = \"There are 12 apples and 3 oranges in the basket.\"\n",
    "matches = re.compile(r'\\d+').finditer(sample_text)\n",
    "results = [(match.group(), match.start()) for match in matches]\n",
    "\n",
    "for number, position in results:\n",
    "    print(f\"Number '{number}' found at position {position}.\")"
   ]
  },
  {
   "cell_type": "code",
   "execution_count": 71,
   "id": "0d300086",
   "metadata": {},
   "outputs": [
    {
     "name": "stdout",
     "output_type": "stream",
     "text": [
      "Maximum Numeric Value: 950\n"
     ]
    }
   ],
   "source": [
    "#Question 22- Write a regular expression in python program to extract maximum/largest numeric value from a string.\n",
    "\n",
    "sample_text = 'My marks in each semester are: 947, 896, 926, 524, 734, 950, 642'\n",
    "\n",
    "import re\n",
    "\n",
    "pattern = r'\\b\\d+\\b'\n",
    "numbers = re.findall(pattern, sample_text)\n",
    "max_number = max(map(int, numbers))\n",
    "\n",
    "print(\"Maximum Numeric Value:\", max_number)"
   ]
  },
  {
   "cell_type": "code",
   "execution_count": 76,
   "id": "22b54b09",
   "metadata": {},
   "outputs": [
    {
     "name": "stdout",
     "output_type": "stream",
     "text": [
      "Regular Expression Is An Important Topic In Python\n"
     ]
    }
   ],
   "source": [
    "# Question 23- Create a function in python to insert spaces between words starting with capital letters.\n",
    "\n",
    "sample_text = \"RegularExpressionIsAnImportantTopicInPython\"\n",
    "x= re.sub(r'([a-z])([A-Z])', r'\\1 \\2',sample_text)\n",
    "print(x)"
   ]
  },
  {
   "cell_type": "code",
   "execution_count": 80,
   "id": "0ef312d1",
   "metadata": {},
   "outputs": [
    {
     "name": "stdout",
     "output_type": "stream",
     "text": [
      "Sample Text: Regular expression is An Important topic in Python\n",
      "Sequences : ['Regular', 'An', 'Important', 'Python']\n"
     ]
    }
   ],
   "source": [
    "# Question 24- Python regex to find sequences of one upper case letter followed by lower case letters\n",
    "\n",
    "import re\n",
    "sample_text = \"Regular expression is An Important topic in Python\"\n",
    "x= re.compile(r'[A-Z][a-z]+').findall(sample_text)\n",
    "\n",
    "print(\"Sample Text:\", sample_text)\n",
    "print(\"Sequences :\", x)"
   ]
  },
  {
   "cell_type": "code",
   "execution_count": 186,
   "id": "6968d441",
   "metadata": {},
   "outputs": [
    {
     "name": "stdout",
     "output_type": "stream",
     "text": [
      "Hello hello world\n"
     ]
    }
   ],
   "source": [
    "#Question 25- Write a Python program to remove continuous duplicate words from Sentence using Regular Expression.\n",
    "\n",
    "import re\n",
    "sample_text = \"Hello hello world world\"\n",
    "x = re.sub(r'\\b(\\w+)(\\s+\\1\\b)+', r'\\1', sample_text)\n",
    "print(x)"
   ]
  },
  {
   "cell_type": "code",
   "execution_count": 154,
   "id": "61e53821",
   "metadata": {},
   "outputs": [
    {
     "name": "stdout",
     "output_type": "stream",
     "text": [
      "Helloy: True\n",
      "Hello_xx: True\n",
      "Hello123: True\n",
      "abc123!: False\n",
      "alpha_beta: True\n",
      "12345: True\n",
      "test!: False\n",
      "data_: False\n"
     ]
    }
   ],
   "source": [
    "#Question 26-  Write a python program using RegEx to accept string ending with alphanumeric character.\n",
    "\n",
    "import re\n",
    "\n",
    "def alphanumeric(string):\n",
    "    pattern = re.compile(r'[a-zA-Z0-9]$')\n",
    "    if re.search(pattern, string):\n",
    "        return True\n",
    "    else:\n",
    "        return False\n",
    "\n",
    "strings = [\"Helloy\",\"Hello_xx\",\"Hello123\",\"abc123!\",\"alpha_beta\",\"12345\", \"test!\",\"data_\"]\n",
    "\n",
    "for string in strings:\n",
    "    print(f\"{string}: {alphanumeric(string)}\")\n",
    "\n"
   ]
  },
  {
   "cell_type": "code",
   "execution_count": 158,
   "id": "a82979ed",
   "metadata": {},
   "outputs": [
    {
     "name": "stdout",
     "output_type": "stream",
     "text": [
      "['#Doltiwal', '#xyzabc', '#Demonetization']\n"
     ]
    }
   ],
   "source": [
    "#Question 27-Write a python program using RegEx to extract the hashtags.\n",
    "\n",
    "import re\n",
    "\n",
    "sample_text = \"\"\"RT @kapil_kausik: #Doltiwal I mean #xyzabc is \"hurt\" by #Demonetization as the same has rendered USELESS <ed><U+00A0><U+00BD><ed><U+00B1><U+0089> \"acquired funds\" No wo\"\"\"\n",
    "pattern = re.compile(r'#\\w+')\n",
    "hashtags = re.findall(pattern,sample_text)\n",
    "    \n",
    "print(hashtags)"
   ]
  },
  {
   "cell_type": "code",
   "execution_count": 163,
   "id": "7cf5a086",
   "metadata": {},
   "outputs": [
    {
     "name": "stdout",
     "output_type": "stream",
     "text": [
      "@Jags123456 Bharat band on 28??<ed><ed>Those who are protesting #demonetization are all different party leaders\n"
     ]
    }
   ],
   "source": [
    "#Question 28- Write a python program using RegEx to remove <U+..> like symbols\n",
    "\n",
    "import re\n",
    "\n",
    "sample_text = \"@Jags123456 Bharat band on 28??<ed><U+00A0><U+00BD><ed><U+00B8><U+0082>Those who are protesting #demonetization are all different party leaders\"\n",
    "\n",
    "pattern = re.compile(r'<U\\+[0-9A-Fa-f]{4}>')\n",
    "cleaned_text = re.sub(pattern, '', sample_text)\n",
    "\n",
    "print(cleaned_text)"
   ]
  },
  {
   "cell_type": "code",
   "execution_count": 192,
   "id": "7d299031",
   "metadata": {},
   "outputs": [
    {
     "name": "stdout",
     "output_type": "stream",
     "text": [
      "['12-09-1992', '15-12-1999']\n"
     ]
    }
   ],
   "source": [
    "#Question 29- Write a python program to extract dates from the text stored in the text file.\n",
    "\n",
    "import re\n",
    "\n",
    "sample_text = \"Ron was born on 12-09-1992 and he was admitted to school 15-12-1999.\"\n",
    "\n",
    "with open(\"sample_text.txt\", \"w\") as file:\n",
    "    file.write(sample_text)\n",
    "\n",
    "dates = re.compile(r'\\b\\d{2}-\\d{2}-\\d{4}\\b').findall(sample_text)\n",
    "\n",
    "print(dates)"
   ]
  },
  {
   "cell_type": "code",
   "execution_count": 187,
   "id": "ea6cca33",
   "metadata": {},
   "outputs": [
    {
     "name": "stdout",
     "output_type": "stream",
     "text": [
      " following example creates  ArrayList  a capacity   elements. 4 elements   added   ArrayList   ArrayList  trimmed accordingly.\n"
     ]
    }
   ],
   "source": [
    "#Question 30- Create a function in python to remove all words from a string of length between 2 and 4.\n",
    "\n",
    "import re\n",
    "\n",
    "sample_text = \"The following example creates an ArrayList with a capacity of 50 elements. 4 elements are then added to the ArrayList and the ArrayList is trimmed accordingly.\"\n",
    "\n",
    "pattern = re.compile(r'\\b\\w{2,4}\\b').sub('',sample_text)\n",
    "\n",
    "print(pattern)"
   ]
  },
  {
   "cell_type": "code",
   "execution_count": null,
   "id": "f2600c36",
   "metadata": {},
   "outputs": [],
   "source": []
  }
 ],
 "metadata": {
  "kernelspec": {
   "display_name": "Python 3 (ipykernel)",
   "language": "python",
   "name": "python3"
  },
  "language_info": {
   "codemirror_mode": {
    "name": "ipython",
    "version": 3
   },
   "file_extension": ".py",
   "mimetype": "text/x-python",
   "name": "python",
   "nbconvert_exporter": "python",
   "pygments_lexer": "ipython3",
   "version": "3.10.9"
  }
 },
 "nbformat": 4,
 "nbformat_minor": 5
}
